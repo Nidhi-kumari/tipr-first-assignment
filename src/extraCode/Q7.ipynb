{
 "cells": [
  {
   "cell_type": "code",
   "execution_count": 1,
   "metadata": {},
   "outputs": [],
   "source": [
    "import numpy as np\n",
    "import pandas as pd\n",
    "from sklearn.preprocessing import StandardScaler\n",
    "from sklearn.decomposition import PCA"
   ]
  },
  {
   "cell_type": "code",
   "execution_count": null,
   "metadata": {},
   "outputs": [],
   "source": [
    "scaler = StandardScaler()\n",
    "# Fit on training set only.\n",
    "scaler.fit(train_img)\n",
    "# Apply transform to both the training set and the test set.\n",
    "train_img = scaler.transform(train_img)"
   ]
  },
  {
   "cell_type": "code",
   "execution_count": 7,
   "metadata": {},
   "outputs": [],
   "source": [
    "X=pd.read_csv(\"../data/dolphins/dolphins.csv\",encoding = 'utf8',sep='\\s+',header=None)\n",
    "def dolphins():\n",
    "    for r_projections in range(2,int(X.shape[1]/2 +1),2):\n",
    "        scaler = StandardScaler()\n",
    "        scaler.fit(X)\n",
    "        data = scaler.transform(X)\n",
    "        pca = PCA(n_components=r_projections)\n",
    "        dataset = pca.fit_transform(data)\n",
    "        filename =  '../pca_dim/dolphins/dolphins_%d.csv'%(r_projections,)\n",
    "        np.savetxt(filename, dataset, delimiter=\",\")"
   ]
  },
  {
   "cell_type": "code",
   "execution_count": 8,
   "metadata": {},
   "outputs": [],
   "source": [
    "dolphins()"
   ]
  },
  {
   "cell_type": "code",
   "execution_count": 9,
   "metadata": {},
   "outputs": [],
   "source": [
    "#r_projections=3\n",
    "Y=pd.read_csv(\"../data/pubmed/pubmed.csv\",encoding = 'utf8',sep='\\s+',header=None)\n",
    "def pubmed():\n",
    "    for r_projections in range(2,int(Y.shape[1]/2 +1),2):\n",
    "        scaler = StandardScaler()\n",
    "        scaler.fit(Y)\n",
    "        data = scaler.transform(Y)\n",
    "        pca = PCA(n_components=r_projections)\n",
    "        dataset = pca.fit_transform(data)\n",
    "        filename =  '../pca_dim/pubmed/pubmed_%d.csv'%(r_projections,)\n",
    "        np.savetxt(filename, dataset, delimiter=\",\")"
   ]
  },
  {
   "cell_type": "code",
   "execution_count": 10,
   "metadata": {},
   "outputs": [],
   "source": [
    "pubmed()"
   ]
  },
  {
   "cell_type": "code",
   "execution_count": 13,
   "metadata": {},
   "outputs": [],
   "source": [
    "from sklearn.feature_extraction.text import TfidfVectorizer\n",
    "\n",
    "\n",
    "\n",
    "file = '../data/twitter/twitter.txt'\n",
    "with open(file) as f:\n",
    "    content = f.readlines()\n",
    "content = [str(x.strip()) for x in content] \n",
    "\n",
    "\n",
    "vectorizer = TfidfVectorizer()\n",
    "vectorizer.fit(content)\n",
    "vector = vectorizer.transform(content)\n",
    "twitter_text = vector.toarray()"
   ]
  },
  {
   "cell_type": "code",
   "execution_count": 14,
   "metadata": {},
   "outputs": [
    {
     "data": {
      "text/plain": [
       "(6000, 2978)"
      ]
     },
     "execution_count": 14,
     "metadata": {},
     "output_type": "execute_result"
    }
   ],
   "source": [
    "twitter_text.shape"
   ]
  },
  {
   "cell_type": "code",
   "execution_count": 15,
   "metadata": {},
   "outputs": [],
   "source": [
    "\n",
    "def twitter():\n",
    "    for r_projections in [2,4,8,16,32,64,128,256,512,1024]:\n",
    "        scaler = StandardScaler()\n",
    "        scaler.fit(twitter_text)\n",
    "        data = scaler.transform(twitter_text)\n",
    "        pca = PCA(n_components=r_projections)\n",
    "        dataset = pca.fit_transform(data)\n",
    "        filename =  '../pca_dim/twitter/twitter_%d.csv'%(r_projections,)\n",
    "        np.savetxt(filename, dataset, delimiter=\",\")"
   ]
  },
  {
   "cell_type": "code",
   "execution_count": 16,
   "metadata": {},
   "outputs": [],
   "source": [
    "twitter()"
   ]
  },
  {
   "cell_type": "code",
   "execution_count": null,
   "metadata": {},
   "outputs": [],
   "source": []
  }
 ],
 "metadata": {
  "kernelspec": {
   "display_name": "Python 3",
   "language": "python",
   "name": "python3"
  },
  "language_info": {
   "codemirror_mode": {
    "name": "ipython",
    "version": 3
   },
   "file_extension": ".py",
   "mimetype": "text/x-python",
   "name": "python",
   "nbconvert_exporter": "python",
   "pygments_lexer": "ipython3",
   "version": "3.7.0"
  }
 },
 "nbformat": 4,
 "nbformat_minor": 2
}
