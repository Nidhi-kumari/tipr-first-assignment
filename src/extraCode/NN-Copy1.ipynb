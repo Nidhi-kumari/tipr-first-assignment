{
 "cells": [
  {
   "cell_type": "code",
   "execution_count": 20,
   "metadata": {},
   "outputs": [],
   "source": [
    "#!pip3 install pandas ipython[all] jupyter --user"
   ]
  },
  {
   "cell_type": "code",
   "execution_count": 2,
   "metadata": {},
   "outputs": [
    {
     "name": "stderr",
     "output_type": "stream",
     "text": [
      "/home/nidhi/anaconda3/lib/python3.7/site-packages/sklearn/cross_validation.py:41: DeprecationWarning: This module was deprecated in version 0.18 in favor of the model_selection module into which all the refactored classes and functions are moved. Also note that the interface of the new CV iterators are different from that of this module. This module will be removed in 0.20.\n",
      "  \"This module will be removed in 0.20.\", DeprecationWarning)\n"
     ]
    }
   ],
   "source": [
    "import pandas as pd\n",
    "import numpy as np\n",
    "from sklearn.model_selection import train_test_split\n",
    "from sklearn.metrics import accuracy_score,f1_score\n",
    "import operator\n",
    "import math\n",
    "from sklearn.cross_validation import KFold\n",
    "from sklearn.feature_extraction.text import TfidfVectorizer"
   ]
  },
  {
   "cell_type": "code",
   "execution_count": 3,
   "metadata": {},
   "outputs": [],
   "source": [
    "\n",
    "def Distance(x, y):\n",
    "    distance = 0\n",
    "    for i in range(len(x)-1):\n",
    "        distance += pow((x[i]-y[i]), 2)\n",
    "    return math.sqrt(distance)"
   ]
  },
  {
   "cell_type": "code",
   "execution_count": 4,
   "metadata": {},
   "outputs": [],
   "source": [
    " \n",
    "def kNeighbors(data, query, k):\n",
    "    distances = []\n",
    "    neighbors = []\n",
    "   \n",
    "    for i in range(len(data)):\n",
    "        distance = Distance(data[i], query)\n",
    "        distances.append((data[i], distance))\n",
    "    distances.sort(key=operator.itemgetter(1))\n",
    "    #print(type(distances))\n",
    "    #print(distances)\n",
    "    for i in range(k):\n",
    "        neighbors.append(distances[i][0])\n",
    "    return neighbors\n"
   ]
  },
  {
   "cell_type": "code",
   "execution_count": 5,
   "metadata": {},
   "outputs": [],
   "source": [
    "def Predict(neighbors):\n",
    "    predicted = {}\n",
    "    for i in range(len(neighbors)):\n",
    "        output = neighbors[i][-1]\n",
    "        if output in predicted:\n",
    "            predicted[output] += 1\n",
    "        else:\n",
    "            predicted[output] = 1\n",
    "    pre = sorted(predicted.items(), key=operator.itemgetter(1), reverse=True)\n",
    "    #print(pre)\n",
    "    return pre[0][0]"
   ]
  },
  {
   "cell_type": "code",
   "execution_count": 6,
   "metadata": {},
   "outputs": [],
   "source": [
    "def main(i,train_data,test_data,y_test):\n",
    "    y_pred=[]\n",
    "    k = i\n",
    "    for i in range(len(test_data)):\n",
    "        neighbors = kNeighbors(train_data, test_data[i], k)\n",
    "        result = Predict(neighbors)\n",
    "        y_pred.append(result)\n",
    "    accuracy = accuracy_score(y_test, y_pred)\n",
    "    f1scoremacro = f1_score(y_test, y_pred,average='macro')\n",
    "    f1scoremicro = f1_score(y_test, y_pred,average='micro')\n",
    "    return accuracy,f1scoremacro,f1scoremicro\n"
   ]
  },
  {
   "cell_type": "code",
   "execution_count": 7,
   "metadata": {},
   "outputs": [],
   "source": [
    "dolphins=pd.read_csv(\"../data/dolphins/dolphins.csv\",encoding = 'utf8',sep='\\s+',header=None)\n",
    "from sklearn.metrics import f1_score\n",
    "def evaluation_dolphinsKNN():\n",
    "    Accuracy=dict()\n",
    "    F1scoremacro=dict()\n",
    "    F1scoremicro=dict()\n",
    "    for i in range(2,int(dolphins.shape[1]/2 +1),2):\n",
    "        filename =  '../Reduced_dim/dolphins/dolphins_%d.csv'%(i,)\n",
    "        print(filename)\n",
    "        X=pd.read_csv(filename,encoding = 'utf8',header=None)\n",
    "        y=pd.read_csv(\"../data/dolphins/dolphins_label.csv\",encoding = 'utf8',names = [\"label\"])\n",
    "        \n",
    "        X = np.array(X)\n",
    "        y = np.array(y)\n",
    "    \n",
    "        kf = KFold(y.shape[0],n_folds=10)\n",
    "        \n",
    "        \n",
    "        accuracies=[]\n",
    "        f1scoremacro=[]\n",
    "        f1scoremicro=[]\n",
    "        for train_index, validation_index in kf:\n",
    "           #print(\"TRAIN:\", train_index, \"TEST:\", test_index)\n",
    "            \n",
    "            #print(X)\n",
    "            \n",
    "            X_train, X_val = X[train_index], X[validation_index]\n",
    "            y_train, y_val = y[train_index], y[validation_index]\n",
    "            df_train = pd.concat([pd.DataFrame(X_train), pd.DataFrame(y_train)],axis = 1)\n",
    "            df_test = pd.concat([pd.DataFrame(X_val),pd.DataFrame( y_val)],axis = 1)\n",
    "            train_data = df_train.values.tolist()\n",
    "            val_data = df_test.values.tolist()\n",
    "            accuracy,f1_scoremacro,f1_scoremicro = main(3,train_data,val_data,y_val)\n",
    "            accuracies.append(accuracy)\n",
    "            f1scoremacro.append(f1_scoremacro)\n",
    "            f1scoremicro.append(f1_scoremicro)\n",
    "        Accuracy[i]=sum(accuracies)/float(len(accuracies))\n",
    "        F1scoremacro[i]=sum(f1scoremacro)/float(len(f1scoremacro))\n",
    "        F1scoremicro[i]=sum(f1scoremicro)/float(len(f1scoremicro))\n",
    "    return Accuracy,F1scoremacro,F1scoremicro\n",
    "        \n",
    "        \n",
    "        \n",
    "        "
   ]
  },
  {
   "cell_type": "code",
   "execution_count": 8,
   "metadata": {},
   "outputs": [
    {
     "name": "stdout",
     "output_type": "stream",
     "text": [
      "../Reduced_dim/dolphins/dolphins_2.csv\n",
      "../Reduced_dim/dolphins/dolphins_4.csv\n",
      "../Reduced_dim/dolphins/dolphins_6.csv\n",
      "../Reduced_dim/dolphins/dolphins_8.csv\n"
     ]
    },
    {
     "name": "stderr",
     "output_type": "stream",
     "text": [
      "/home/nidhi/anaconda3/lib/python3.7/site-packages/sklearn/metrics/classification.py:1135: UndefinedMetricWarning: F-score is ill-defined and being set to 0.0 in labels with no predicted samples.\n",
      "  'precision', 'predicted', average, warn_for)\n",
      "/home/nidhi/anaconda3/lib/python3.7/site-packages/sklearn/metrics/classification.py:1137: UndefinedMetricWarning: F-score is ill-defined and being set to 0.0 in labels with no true samples.\n",
      "  'recall', 'true', average, warn_for)\n"
     ]
    },
    {
     "name": "stdout",
     "output_type": "stream",
     "text": [
      "../Reduced_dim/dolphins/dolphins_10.csv\n",
      "../Reduced_dim/dolphins/dolphins_12.csv\n",
      "../Reduced_dim/dolphins/dolphins_14.csv\n",
      "../Reduced_dim/dolphins/dolphins_16.csv\n"
     ]
    }
   ],
   "source": [
    "Accuracy,F1scoremacro,F1scoremicro = evaluation_dolphinsKNN()"
   ]
  },
  {
   "cell_type": "code",
   "execution_count": 10,
   "metadata": {},
   "outputs": [],
   "source": [
    "import pickle\n",
    "\n",
    "\n",
    "f = open(\"evaluation_dolphinsKNN\", \"wb\")\n",
    "pickle.dump(Accuracy,f)\n",
    "pickle.dump(F1scoremacro, f)\n",
    "pickle.dump(F1scoremicro,f)\n",
    "f.close()"
   ]
  },
  {
   "cell_type": "code",
   "execution_count": 11,
   "metadata": {},
   "outputs": [],
   "source": [
    "dolphins=pd.read_csv(\"../data/dolphins/dolphins.csv\",encoding = 'utf8',sep='\\s+',header=None)\n",
    "from sklearn.naive_bayes import GaussianNB\n",
    "from sklearn.metrics import f1_score\n",
    "def evaluation_dolphinsKNN():\n",
    "    Accuracy=dict()\n",
    "    F1scoremacro=dict()\n",
    "    F1scoremicro=dict()\n",
    "    for i in range(2,int(dolphins.shape[1]/2 +1),2):\n",
    "        filename =  '../Reduced_dim/dolphins/dolphins_%d.csv'%(i,)\n",
    "        print(filename)\n",
    "        X=pd.read_csv(filename,encoding = 'utf8',header=None)\n",
    "        y=pd.read_csv(\"../data/dolphins/dolphins_label.csv\",encoding = 'utf8',names = [\"label\"])\n",
    "        \n",
    "        X = np.array(X)\n",
    "        y = np.array(y)\n",
    "    \n",
    "        kf = KFold(y.shape[0],n_folds=10)\n",
    "        \n",
    "        \n",
    "        accuracies=[]\n",
    "        f1scoremacro=[]\n",
    "        f1scoremicro=[]\n",
    "        for train_index, validation_index in kf:\n",
    "           #print(\"TRAIN:\", train_index, \"TEST:\", test_index)\n",
    "            \n",
    "            #print(X)\n",
    "            \n",
    "            X_train, X_val = X[train_index], X[validation_index]\n",
    "            y_train, y_val = y[train_index], y[validation_index]\n",
    "            from sklearn.neighbors import KNeighborsClassifier\n",
    "            neigh = KNeighborsClassifier(n_neighbors=3)\n",
    "            neigh.fit(X_train, y_train) \n",
    "            y_pred=neigh.predict(X_val)\n",
    "            accuracy = accuracy_score(y_val, y_pred)\n",
    "            f1_scoremacro = f1_score(y_val, y_pred,average='macro')\n",
    "            f1_scoremicro = f1_score(y_val, y_pred,average='micro')\n",
    "            \n",
    "            accuracies.append(accuracy)\n",
    "            f1scoremacro.append(f1_scoremacro)\n",
    "            f1scoremicro.append(f1_scoremicro)\n",
    "        Accuracy[i]=sum(accuracies)/float(len(accuracies))\n",
    "        F1scoremacro[i]=sum(f1scoremacro)/float(len(f1scoremacro))\n",
    "        F1scoremicro[i]=sum(f1scoremicro)/float(len(f1scoremicro))\n",
    "    return Accuracy,F1scoremacro,F1scoremicro\n",
    "\n"
   ]
  },
  {
   "cell_type": "code",
   "execution_count": 12,
   "metadata": {},
   "outputs": [
    {
     "name": "stdout",
     "output_type": "stream",
     "text": [
      "../Reduced_dim/dolphins/dolphins_2.csv\n",
      "../Reduced_dim/dolphins/dolphins_4.csv\n",
      "../Reduced_dim/dolphins/dolphins_6.csv\n",
      "../Reduced_dim/dolphins/dolphins_8.csv\n",
      "../Reduced_dim/dolphins/dolphins_10.csv\n",
      "../Reduced_dim/dolphins/dolphins_12.csv\n"
     ]
    },
    {
     "name": "stderr",
     "output_type": "stream",
     "text": [
      "/home/nidhi/anaconda3/lib/python3.7/site-packages/ipykernel_launcher.py:32: DataConversionWarning: A column-vector y was passed when a 1d array was expected. Please change the shape of y to (n_samples, ), for example using ravel().\n",
      "/home/nidhi/anaconda3/lib/python3.7/site-packages/sklearn/metrics/classification.py:1135: UndefinedMetricWarning: F-score is ill-defined and being set to 0.0 in labels with no predicted samples.\n",
      "  'precision', 'predicted', average, warn_for)\n",
      "/home/nidhi/anaconda3/lib/python3.7/site-packages/sklearn/metrics/classification.py:1137: UndefinedMetricWarning: F-score is ill-defined and being set to 0.0 in labels with no true samples.\n",
      "  'recall', 'true', average, warn_for)\n"
     ]
    },
    {
     "name": "stdout",
     "output_type": "stream",
     "text": [
      "../Reduced_dim/dolphins/dolphins_14.csv\n",
      "../Reduced_dim/dolphins/dolphins_16.csv\n"
     ]
    }
   ],
   "source": [
    "Accuracy,F1scoremacro,F1scoremicro =evaluation_dolphinsKNN()"
   ]
  },
  {
   "cell_type": "code",
   "execution_count": 13,
   "metadata": {},
   "outputs": [],
   "source": [
    "import pickle\n",
    "\n",
    "\n",
    "f = open(\"evaluation_dolphinsKNNPCA\", \"wb\")\n",
    "pickle.dump(Accuracy,f)\n",
    "pickle.dump(F1scoremacro, f)\n",
    "pickle.dump(F1scoremicro,f)\n",
    "f.close()"
   ]
  },
  {
   "cell_type": "code",
   "execution_count": 76,
   "metadata": {},
   "outputs": [],
   "source": [
    "import matplotlib.pyplot as plt\n",
    "def plot(dimensions,accuracieskn,f1scoreskn,accuraciesnb,f1scoresnb):\n",
    "    #plt.figure(1)                # the first figure\n",
    "    #plt.subplot(221)             # the first subplot in the first figure\n",
    "    plt.plot(Accuracies.keys(),Accuracies.value())\n",
    "    #plt.subplot(222)             # the second subplot in the first figure\n",
    "    #plt.plot(dimensions,f1scoreskn)\n",
    "    #plt.subplot(223)             # the second subplot in the first figure\n",
    "    #plt.plot(dimensions,accuraciesnb)\n",
    "    #plt.subplot(224)             # the second subplot in the first figure\n",
    "    #plt.plot(dimensions,f1scoresnb)\n",
    "    #plt.subplots_adjust(top=0.92, bottom=0.08, left=0.10, right=0.95, hspace=0.25,wspace=0.35)\n",
    "   \n",
    "    plt.show()\n",
    "    "
   ]
  },
  {
   "cell_type": "code",
   "execution_count": 77,
   "metadata": {},
   "outputs": [
    {
     "data": {
      "image/png": "[encoded data removed]",
      "text/plain": [
       "<Figure size 432x288 with 1 Axes>"
      ]
     },
     "metadata": {
      "needs_background": "light"
     },
     "output_type": "display_data"
    }
   ],
   "source": [
    "plt.plot(Accuracy.keys(),Accuracy.values())\n",
    "plt.show()"
   ]
  },
  {
   "cell_type": "raw",
   "metadata": {},
   "source": []
  },
  {
   "cell_type": "code",
   "execution_count": 19,
   "metadata": {},
   "outputs": [
    {
     "name": "stdout",
     "output_type": "stream",
     "text": [
      "../Reduced_dim/pubmed/pubmed_2.csv\n",
      "../Reduced_dim/pubmed/pubmed_4.csv\n",
      "../Reduced_dim/pubmed/pubmed_6.csv\n",
      "../Reduced_dim/pubmed/pubmed_8.csv\n",
      "../Reduced_dim/pubmed/pubmed_10.csv\n",
      "../Reduced_dim/pubmed/pubmed_12.csv\n",
      "../Reduced_dim/pubmed/pubmed_14.csv\n",
      "../Reduced_dim/pubmed/pubmed_16.csv\n",
      "../Reduced_dim/pubmed/pubmed_18.csv\n",
      "../Reduced_dim/pubmed/pubmed_20.csv\n",
      "../Reduced_dim/pubmed/pubmed_22.csv\n",
      "../Reduced_dim/pubmed/pubmed_24.csv\n",
      "../Reduced_dim/pubmed/pubmed_26.csv\n",
      "../Reduced_dim/pubmed/pubmed_28.csv\n",
      "../Reduced_dim/pubmed/pubmed_30.csv\n",
      "../Reduced_dim/pubmed/pubmed_32.csv\n",
      "../Reduced_dim/pubmed/pubmed_34.csv\n",
      "../Reduced_dim/pubmed/pubmed_36.csv\n",
      "../Reduced_dim/pubmed/pubmed_38.csv\n",
      "../Reduced_dim/pubmed/pubmed_40.csv\n",
      "../Reduced_dim/pubmed/pubmed_42.csv\n",
      "../Reduced_dim/pubmed/pubmed_44.csv\n",
      "../Reduced_dim/pubmed/pubmed_46.csv\n",
      "../Reduced_dim/pubmed/pubmed_48.csv\n",
      "../Reduced_dim/pubmed/pubmed_50.csv\n",
      "../Reduced_dim/pubmed/pubmed_52.csv\n",
      "../Reduced_dim/pubmed/pubmed_54.csv\n",
      "../Reduced_dim/pubmed/pubmed_56.csv\n",
      "../Reduced_dim/pubmed/pubmed_58.csv\n",
      "../Reduced_dim/pubmed/pubmed_60.csv\n",
      "../Reduced_dim/pubmed/pubmed_62.csv\n",
      "../Reduced_dim/pubmed/pubmed_64.csv\n"
     ]
    }
   ],
   "source": [
    "dimensionpubmed,accuracypubmed,f1scorepubmed = evaluation_pubmed()"
   ]
  },
  {
   "cell_type": "code",
   "execution_count": null,
   "metadata": {},
   "outputs": [],
   "source": []
  },
  {
   "cell_type": "code",
   "execution_count": 22,
   "metadata": {},
   "outputs": [],
   "source": [
    "\n",
    "import pickle\n",
    "#pubmedResult = \"pickle.dat\"\n",
    "'''\n",
    "f = open(\"pubmedResultNN\", \"wb\")\n",
    "pickle.dump(dimensionpubmed,f)\n",
    "pickle.dump(accuracypubmed, f)\n",
    "pickle.dump(f1scorepubmed,f)\n",
    "f.close()\n",
    "\n",
    "\n",
    "\n",
    "\n",
    "\n",
    "#with open(pubmedResult, \"rb\") as f:\n",
    "#    print pickle.load(f)\n",
    "    "
   ]
  },
  {
   "cell_type": "code",
   "execution_count": 23,
   "metadata": {},
   "outputs": [],
   "source": [
    "f = open(\"pubmedResultNN\", \"rb\")\n",
    "value1 = pickle.load(f)\n",
    "value2 = pickle.load(f)\n",
    "value3 = pickle.load(f)\n",
    "f.close()\n"
   ]
  },
  {
   "cell_type": "code",
   "execution_count": 24,
   "metadata": {},
   "outputs": [
    {
     "data": {
      "text/plain": [
       "[0.36633663366336633,\n",
       " 0.37937696208645255,\n",
       " 0.3670610963535378,\n",
       " 0.3750301859454238,\n",
       " 0.36078241970538516,\n",
       " 0.3733397730016904,\n",
       " 0.36947597198744264,\n",
       " 0.36416324559285196,\n",
       " 0.37261531031151895,\n",
       " 0.3786524993962811,\n",
       " 0.35933349432504225,\n",
       " 0.3730982854382999,\n",
       " 0.363680270466071,\n",
       " 0.36609514609997584,\n",
       " 0.3718908476213475,\n",
       " 0.3704419222410046,\n",
       " 0.37913547452306207,\n",
       " 0.3786524993962811,\n",
       " 0.3697174595508331,\n",
       " 0.37237382274812847,\n",
       " 0.3784110118328906,\n",
       " 0.3738227481284714,\n",
       " 0.3699589471142236,\n",
       " 0.3764791113257667,\n",
       " 0.36585365853658536,\n",
       " 0.37261531031151895,\n",
       " 0.38420671335426226,\n",
       " 0.37285679787490944,\n",
       " 0.3752716735088143,\n",
       " 0.3769620864525477,\n",
       " 0.3781695242695001,\n",
       " 0.37575464863559527]"
      ]
     },
     "execution_count": 24,
     "metadata": {},
     "output_type": "execute_result"
    }
   ],
   "source": [
    "value2"
   ]
  },
  {
   "cell_type": "code",
   "execution_count": 2,
   "metadata": {},
   "outputs": [],
   "source": [
    "import pickle\n",
    "f = open(\"pubmedResultNN\", \"rb\")\n",
    "value1 = pickle.load(f)\n",
    "value2 = pickle.load(f)\n",
    "value3 = pickle.load(f)\n",
    "f.close()\n"
   ]
  },
  {
   "cell_type": "code",
   "execution_count": 3,
   "metadata": {},
   "outputs": [
    {
     "data": {
      "text/plain": [
       "[2,\n",
       " 4,\n",
       " 6,\n",
       " 8,\n",
       " 10,\n",
       " 12,\n",
       " 14,\n",
       " 16,\n",
       " 18,\n",
       " 20,\n",
       " 22,\n",
       " 24,\n",
       " 26,\n",
       " 28,\n",
       " 30,\n",
       " 32,\n",
       " 34,\n",
       " 36,\n",
       " 38,\n",
       " 40,\n",
       " 42,\n",
       " 44,\n",
       " 46,\n",
       " 48,\n",
       " 50,\n",
       " 52,\n",
       " 54,\n",
       " 56,\n",
       " 58,\n",
       " 60,\n",
       " 62,\n",
       " 64]"
      ]
     },
     "execution_count": 3,
     "metadata": {},
     "output_type": "execute_result"
    }
   ],
   "source": [
    "value1"
   ]
  },
  {
   "cell_type": "code",
   "execution_count": 2,
   "metadata": {},
   "outputs": [],
   "source": [
    "import numpy as np\n",
    "import pandas as pd\n",
    "from sklearn.model_selection import train_test_split\n",
    "from sklearn.metrics import accuracy_score\n",
    "from sklearn.naive_bayes import MultinomialNB"
   ]
  },
  {
   "cell_type": "code",
   "execution_count": 4,
   "metadata": {},
   "outputs": [],
   "source": [
    "from sklearn.feature_extraction.text import TfidfVectorizer\n",
    "\n",
    "file = '../data/twitter/twitter.txt'\n",
    "with open(file) as f:\n",
    "    content = f.readlines()\n",
    "content = [str(x.strip()) for x in content] \n",
    "\n",
    "vectorizer = TfidfVectorizer()\n",
    "vectorizer.fit(content)\n",
    "# summarize\n",
    "#print(vectorizer.vocabulary_)\n",
    "#print(vectorizer.idf_)\n",
    "# encode document\n",
    "vector = vectorizer.transform(content)\n",
    "# summarize encoded vector\n",
    "#print(vector.shape)\n",
    "X = vector.toarray()\n",
    "\n",
    "file_y = '../data/twitter/twitter_label.txt'\n",
    "with open(file_y) as f:\n",
    "    content_y = f.readlines()\n",
    "y = [str(x.strip()) for x in content_y] "
   ]
  },
  {
   "cell_type": "code",
   "execution_count": 6,
   "metadata": {},
   "outputs": [
    {
     "data": {
      "text/plain": [
       "array([[0., 0., 0., ..., 0., 0., 0.],\n",
       "       [0., 0., 0., ..., 0., 0., 0.],\n",
       "       [0., 0., 0., ..., 0., 0., 0.],\n",
       "       ...,\n",
       "       [0., 0., 0., ..., 0., 0., 0.],\n",
       "       [0., 0., 0., ..., 0., 0., 0.],\n",
       "       [0., 0., 0., ..., 0., 0., 0.]])"
      ]
     },
     "execution_count": 6,
     "metadata": {},
     "output_type": "execute_result"
    }
   ],
   "source": [
    "X"
   ]
  },
  {
   "cell_type": "code",
   "execution_count": 7,
   "metadata": {},
   "outputs": [],
   "source": [
    "X_train, X_test, y_train, y_test = train_test_split(X, y, test_size=0.20, random_state=42)"
   ]
  },
  {
   "cell_type": "code",
   "execution_count": 14,
   "metadata": {},
   "outputs": [],
   "source": [
    "df_train = pd.concat([pd.DataFrame(X_train), pd.DataFrame(y_train)],axis = 1)"
   ]
  },
  {
   "cell_type": "code",
   "execution_count": 15,
   "metadata": {},
   "outputs": [
    {
     "data": {
      "text/html": [
       "<div>\n",
       "<style scoped>\n",
       "    .dataframe tbody tr th:only-of-type {\n",
       "        vertical-align: middle;\n",
       "    }\n",
       "\n",
       "    .dataframe tbody tr th {\n",
       "        vertical-align: top;\n",
       "    }\n",
       "\n",
       "    .dataframe thead th {\n",
       "        text-align: right;\n",
       "    }\n",
       "</style>\n",
       "<table border=\"1\" class=\"dataframe\">\n",
       "  <thead>\n",
       "    <tr style=\"text-align: right;\">\n",
       "      <th></th>\n",
       "      <th>0</th>\n",
       "      <th>1</th>\n",
       "      <th>2</th>\n",
       "      <th>3</th>\n",
       "      <th>4</th>\n",
       "      <th>5</th>\n",
       "      <th>6</th>\n",
       "      <th>7</th>\n",
       "      <th>8</th>\n",
       "      <th>9</th>\n",
       "      <th>...</th>\n",
       "      <th>2969</th>\n",
       "      <th>2970</th>\n",
       "      <th>2971</th>\n",
       "      <th>2972</th>\n",
       "      <th>2973</th>\n",
       "      <th>2974</th>\n",
       "      <th>2975</th>\n",
       "      <th>2976</th>\n",
       "      <th>2977</th>\n",
       "      <th>0</th>\n",
       "    </tr>\n",
       "  </thead>\n",
       "  <tbody>\n",
       "    <tr>\n",
       "      <th>0</th>\n",
       "      <td>0.0</td>\n",
       "      <td>0.0</td>\n",
       "      <td>0.0</td>\n",
       "      <td>0.0</td>\n",
       "      <td>0.0</td>\n",
       "      <td>0.0</td>\n",
       "      <td>0.0</td>\n",
       "      <td>0.33836</td>\n",
       "      <td>0.000000</td>\n",
       "      <td>0.0</td>\n",
       "      <td>...</td>\n",
       "      <td>0.0</td>\n",
       "      <td>0.0</td>\n",
       "      <td>0.0</td>\n",
       "      <td>0.0</td>\n",
       "      <td>0.0</td>\n",
       "      <td>0.0</td>\n",
       "      <td>0.0</td>\n",
       "      <td>0.0</td>\n",
       "      <td>0.0</td>\n",
       "      <td>0</td>\n",
       "    </tr>\n",
       "    <tr>\n",
       "      <th>1</th>\n",
       "      <td>0.0</td>\n",
       "      <td>0.0</td>\n",
       "      <td>0.0</td>\n",
       "      <td>0.0</td>\n",
       "      <td>0.0</td>\n",
       "      <td>0.0</td>\n",
       "      <td>0.0</td>\n",
       "      <td>0.00000</td>\n",
       "      <td>0.411082</td>\n",
       "      <td>0.0</td>\n",
       "      <td>...</td>\n",
       "      <td>0.0</td>\n",
       "      <td>0.0</td>\n",
       "      <td>0.0</td>\n",
       "      <td>0.0</td>\n",
       "      <td>0.0</td>\n",
       "      <td>0.0</td>\n",
       "      <td>0.0</td>\n",
       "      <td>0.0</td>\n",
       "      <td>0.0</td>\n",
       "      <td>0</td>\n",
       "    </tr>\n",
       "    <tr>\n",
       "      <th>2</th>\n",
       "      <td>0.0</td>\n",
       "      <td>0.0</td>\n",
       "      <td>0.0</td>\n",
       "      <td>0.0</td>\n",
       "      <td>0.0</td>\n",
       "      <td>0.0</td>\n",
       "      <td>0.0</td>\n",
       "      <td>0.00000</td>\n",
       "      <td>0.000000</td>\n",
       "      <td>0.0</td>\n",
       "      <td>...</td>\n",
       "      <td>0.0</td>\n",
       "      <td>0.0</td>\n",
       "      <td>0.0</td>\n",
       "      <td>0.0</td>\n",
       "      <td>0.0</td>\n",
       "      <td>0.0</td>\n",
       "      <td>0.0</td>\n",
       "      <td>0.0</td>\n",
       "      <td>0.0</td>\n",
       "      <td>1</td>\n",
       "    </tr>\n",
       "    <tr>\n",
       "      <th>3</th>\n",
       "      <td>0.0</td>\n",
       "      <td>0.0</td>\n",
       "      <td>0.0</td>\n",
       "      <td>0.0</td>\n",
       "      <td>0.0</td>\n",
       "      <td>0.0</td>\n",
       "      <td>0.0</td>\n",
       "      <td>0.00000</td>\n",
       "      <td>0.000000</td>\n",
       "      <td>0.0</td>\n",
       "      <td>...</td>\n",
       "      <td>0.0</td>\n",
       "      <td>0.0</td>\n",
       "      <td>0.0</td>\n",
       "      <td>0.0</td>\n",
       "      <td>0.0</td>\n",
       "      <td>0.0</td>\n",
       "      <td>0.0</td>\n",
       "      <td>0.0</td>\n",
       "      <td>0.0</td>\n",
       "      <td>1</td>\n",
       "    </tr>\n",
       "    <tr>\n",
       "      <th>4</th>\n",
       "      <td>0.0</td>\n",
       "      <td>0.0</td>\n",
       "      <td>0.0</td>\n",
       "      <td>0.0</td>\n",
       "      <td>0.0</td>\n",
       "      <td>0.0</td>\n",
       "      <td>0.0</td>\n",
       "      <td>0.00000</td>\n",
       "      <td>0.000000</td>\n",
       "      <td>0.0</td>\n",
       "      <td>...</td>\n",
       "      <td>0.0</td>\n",
       "      <td>0.0</td>\n",
       "      <td>0.0</td>\n",
       "      <td>0.0</td>\n",
       "      <td>0.0</td>\n",
       "      <td>0.0</td>\n",
       "      <td>0.0</td>\n",
       "      <td>0.0</td>\n",
       "      <td>0.0</td>\n",
       "      <td>1</td>\n",
       "    </tr>\n",
       "  </tbody>\n",
       "</table>\n",
       "<p>5 rows × 2979 columns</p>\n",
       "</div>"
      ],
      "text/plain": [
       "   0     1     2     3     4     5     6        7         8     9     ...   \\\n",
       "0   0.0   0.0   0.0   0.0   0.0   0.0   0.0  0.33836  0.000000   0.0  ...    \n",
       "1   0.0   0.0   0.0   0.0   0.0   0.0   0.0  0.00000  0.411082   0.0  ...    \n",
       "2   0.0   0.0   0.0   0.0   0.0   0.0   0.0  0.00000  0.000000   0.0  ...    \n",
       "3   0.0   0.0   0.0   0.0   0.0   0.0   0.0  0.00000  0.000000   0.0  ...    \n",
       "4   0.0   0.0   0.0   0.0   0.0   0.0   0.0  0.00000  0.000000   0.0  ...    \n",
       "\n",
       "   2969  2970  2971  2972  2973  2974  2975  2976  2977  0     \n",
       "0   0.0   0.0   0.0   0.0   0.0   0.0   0.0   0.0   0.0     0  \n",
       "1   0.0   0.0   0.0   0.0   0.0   0.0   0.0   0.0   0.0     0  \n",
       "2   0.0   0.0   0.0   0.0   0.0   0.0   0.0   0.0   0.0     1  \n",
       "3   0.0   0.0   0.0   0.0   0.0   0.0   0.0   0.0   0.0     1  \n",
       "4   0.0   0.0   0.0   0.0   0.0   0.0   0.0   0.0   0.0     1  \n",
       "\n",
       "[5 rows x 2979 columns]"
      ]
     },
     "execution_count": 15,
     "metadata": {},
     "output_type": "execute_result"
    }
   ],
   "source": [
    "df_train.head()"
   ]
  },
  {
   "cell_type": "code",
   "execution_count": 12,
   "metadata": {},
   "outputs": [
    {
     "name": "stdout",
     "output_type": "stream",
     "text": [
      "      0     1        2     3     4     5     6     7     8     9     ...   \\\n",
      "0      0.0   0.0  0.00000   0.0   0.0   0.0   0.0   0.0   0.0   0.0  ...    \n",
      "1      0.0   0.0  0.00000   0.0   0.0   0.0   0.0   0.0   0.0   0.0  ...    \n",
      "2      0.0   0.0  0.00000   0.0   0.0   0.0   0.0   0.0   0.0   0.0  ...    \n",
      "3      0.0   0.0  0.00000   0.0   0.0   0.0   0.0   0.0   0.0   0.0  ...    \n",
      "4      0.0   0.0  0.17558   0.0   0.0   0.0   0.0   0.0   0.0   0.0  ...    \n",
      "5      0.0   0.0  0.00000   0.0   0.0   0.0   0.0   0.0   0.0   0.0  ...    \n",
      "6      0.0   0.0  0.00000   0.0   0.0   0.0   0.0   0.0   0.0   0.0  ...    \n",
      "7      0.0   0.0  0.00000   0.0   0.0   0.0   0.0   0.0   0.0   0.0  ...    \n",
      "8      0.0   0.0  0.00000   0.0   0.0   0.0   0.0   0.0   0.0   0.0  ...    \n",
      "9      0.0   0.0  0.00000   0.0   0.0   0.0   0.0   0.0   0.0   0.0  ...    \n",
      "10     0.0   0.0  0.00000   0.0   0.0   0.0   0.0   0.0   0.0   0.0  ...    \n",
      "11     0.0   0.0  0.00000   0.0   0.0   0.0   0.0   0.0   0.0   0.0  ...    \n",
      "12     0.0   0.0  0.00000   0.0   0.0   0.0   0.0   0.0   0.0   0.0  ...    \n",
      "13     0.0   0.0  0.00000   0.0   0.0   0.0   0.0   0.0   0.0   0.0  ...    \n",
      "14     0.0   0.0  0.00000   0.0   0.0   0.0   0.0   0.0   0.0   0.0  ...    \n",
      "15     0.0   0.0  0.00000   0.0   0.0   0.0   0.0   0.0   0.0   0.0  ...    \n",
      "16     0.0   0.0  0.00000   0.0   0.0   0.0   0.0   0.0   0.0   0.0  ...    \n",
      "17     0.0   0.0  0.00000   0.0   0.0   0.0   0.0   0.0   0.0   0.0  ...    \n",
      "18     0.0   0.0  0.00000   0.0   0.0   0.0   0.0   0.0   0.0   0.0  ...    \n",
      "19     0.0   0.0  0.00000   0.0   0.0   0.0   0.0   0.0   0.0   0.0  ...    \n",
      "20     0.0   0.0  0.00000   0.0   0.0   0.0   0.0   0.0   0.0   0.0  ...    \n",
      "21     0.0   0.0  0.00000   0.0   0.0   0.0   0.0   0.0   0.0   0.0  ...    \n",
      "22     0.0   0.0  0.00000   0.0   0.0   0.0   0.0   0.0   0.0   0.0  ...    \n",
      "23     0.0   0.0  0.00000   0.0   0.0   0.0   0.0   0.0   0.0   0.0  ...    \n",
      "24     0.0   0.0  0.00000   0.0   0.0   0.0   0.0   0.0   0.0   0.0  ...    \n",
      "25     0.0   0.0  0.00000   0.0   0.0   0.0   0.0   0.0   0.0   0.0  ...    \n",
      "26     0.0   0.0  0.00000   0.0   0.0   0.0   0.0   0.0   0.0   0.0  ...    \n",
      "27     0.0   0.0  0.00000   0.0   0.0   0.0   0.0   0.0   0.0   0.0  ...    \n",
      "28     0.0   0.0  0.00000   0.0   0.0   0.0   0.0   0.0   0.0   0.0  ...    \n",
      "29     0.0   0.0  0.00000   0.0   0.0   0.0   0.0   0.0   0.0   0.0  ...    \n",
      "...    ...   ...      ...   ...   ...   ...   ...   ...   ...   ...  ...    \n",
      "5970   0.0   0.0  0.00000   0.0   0.0   0.0   0.0   0.0   0.0   0.0  ...    \n",
      "5971   0.0   0.0  0.00000   0.0   0.0   0.0   0.0   0.0   0.0   0.0  ...    \n",
      "5972   0.0   0.0  0.00000   0.0   0.0   0.0   0.0   0.0   0.0   0.0  ...    \n",
      "5973   0.0   0.0  0.00000   0.0   0.0   0.0   0.0   0.0   0.0   0.0  ...    \n",
      "5974   0.0   0.0  0.00000   0.0   0.0   0.0   0.0   0.0   0.0   0.0  ...    \n",
      "5975   0.0   0.0  0.00000   0.0   0.0   0.0   0.0   0.0   0.0   0.0  ...    \n",
      "5976   0.0   0.0  0.00000   0.0   0.0   0.0   0.0   0.0   0.0   0.0  ...    \n",
      "5977   0.0   0.0  0.00000   0.0   0.0   0.0   0.0   0.0   0.0   0.0  ...    \n",
      "5978   0.0   0.0  0.00000   0.0   0.0   0.0   0.0   0.0   0.0   0.0  ...    \n",
      "5979   0.0   0.0  0.00000   0.0   0.0   0.0   0.0   0.0   0.0   0.0  ...    \n",
      "5980   0.0   0.0  0.00000   0.0   0.0   0.0   0.0   0.0   0.0   0.0  ...    \n",
      "5981   0.0   0.0  0.00000   0.0   0.0   0.0   0.0   0.0   0.0   0.0  ...    \n",
      "5982   0.0   0.0  0.00000   0.0   0.0   0.0   0.0   0.0   0.0   0.0  ...    \n",
      "5983   0.0   0.0  0.00000   0.0   0.0   0.0   0.0   0.0   0.0   0.0  ...    \n",
      "5984   0.0   0.0  0.00000   0.0   0.0   0.0   0.0   0.0   0.0   0.0  ...    \n",
      "5985   0.0   0.0  0.00000   0.0   0.0   0.0   0.0   0.0   0.0   0.0  ...    \n",
      "5986   0.0   0.0  0.00000   0.0   0.0   0.0   0.0   0.0   0.0   0.0  ...    \n",
      "5987   0.0   0.0  0.00000   0.0   0.0   0.0   0.0   0.0   0.0   0.0  ...    \n",
      "5988   0.0   0.0  0.00000   0.0   0.0   0.0   0.0   0.0   0.0   0.0  ...    \n",
      "5989   0.0   0.0  0.00000   0.0   0.0   0.0   0.0   0.0   0.0   0.0  ...    \n",
      "5990   0.0   0.0  0.00000   0.0   0.0   0.0   0.0   0.0   0.0   0.0  ...    \n",
      "5991   0.0   0.0  0.00000   0.0   0.0   0.0   0.0   0.0   0.0   0.0  ...    \n",
      "5992   0.0   0.0  0.00000   0.0   0.0   0.0   0.0   0.0   0.0   0.0  ...    \n",
      "5993   0.0   0.0  0.00000   0.0   0.0   0.0   0.0   0.0   0.0   0.0  ...    \n",
      "5994   0.0   0.0  0.00000   0.0   0.0   0.0   0.0   0.0   0.0   0.0  ...    \n",
      "5995   0.0   0.0  0.00000   0.0   0.0   0.0   0.0   0.0   0.0   0.0  ...    \n",
      "5996   0.0   0.0  0.00000   0.0   0.0   0.0   0.0   0.0   0.0   0.0  ...    \n",
      "5997   0.0   0.0  0.00000   0.0   0.0   0.0   0.0   0.0   0.0   0.0  ...    \n",
      "5998   0.0   0.0  0.00000   0.0   0.0   0.0   0.0   0.0   0.0   0.0  ...    \n",
      "5999   0.0   0.0  0.00000   0.0   0.0   0.0   0.0   0.0   0.0   0.0  ...    \n",
      "\n",
      "      2968  2969  2970  2971  2972  2973  2974  2975  2976  2977  \n",
      "0      0.0   0.0   0.0   0.0   0.0   0.0   0.0   0.0   0.0   0.0  \n",
      "1      0.0   0.0   0.0   0.0   0.0   0.0   0.0   0.0   0.0   0.0  \n",
      "2      0.0   0.0   0.0   0.0   0.0   0.0   0.0   0.0   0.0   0.0  \n",
      "3      0.0   0.0   0.0   0.0   0.0   0.0   0.0   0.0   0.0   0.0  \n",
      "4      0.0   0.0   0.0   0.0   0.0   0.0   0.0   0.0   0.0   0.0  \n",
      "5      0.0   0.0   0.0   0.0   0.0   0.0   0.0   0.0   0.0   0.0  \n",
      "6      0.0   0.0   0.0   0.0   0.0   0.0   0.0   0.0   0.0   0.0  \n",
      "7      0.0   0.0   0.0   0.0   0.0   0.0   0.0   0.0   0.0   0.0  \n",
      "8      0.0   0.0   0.0   0.0   0.0   0.0   0.0   0.0   0.0   0.0  \n",
      "9      0.0   0.0   0.0   0.0   0.0   0.0   0.0   0.0   0.0   0.0  \n",
      "10     0.0   0.0   0.0   0.0   0.0   0.0   0.0   0.0   0.0   0.0  \n",
      "11     0.0   0.0   0.0   0.0   0.0   0.0   0.0   0.0   0.0   0.0  \n",
      "12     0.0   0.0   0.0   0.0   0.0   0.0   0.0   0.0   0.0   0.0  \n",
      "13     0.0   0.0   0.0   0.0   0.0   0.0   0.0   0.0   0.0   0.0  \n",
      "14     0.0   0.0   0.0   0.0   0.0   0.0   0.0   0.0   0.0   0.0  \n",
      "15     0.0   0.0   0.0   0.0   0.0   0.0   0.0   0.0   0.0   0.0  \n",
      "16     0.0   0.0   0.0   0.0   0.0   0.0   0.0   0.0   0.0   0.0  \n",
      "17     0.0   0.0   0.0   0.0   0.0   0.0   0.0   0.0   0.0   0.0  \n",
      "18     0.0   0.0   0.0   0.0   0.0   0.0   0.0   0.0   0.0   0.0  \n",
      "19     0.0   0.0   0.0   0.0   0.0   0.0   0.0   0.0   0.0   0.0  \n",
      "20     0.0   0.0   0.0   0.0   0.0   0.0   0.0   0.0   0.0   0.0  \n",
      "21     0.0   0.0   0.0   0.0   0.0   0.0   0.0   0.0   0.0   0.0  \n",
      "22     0.0   0.0   0.0   0.0   0.0   0.0   0.0   0.0   0.0   0.0  \n",
      "23     0.0   0.0   0.0   0.0   0.0   0.0   0.0   0.0   0.0   0.0  \n",
      "24     0.0   0.0   0.0   0.0   0.0   0.0   0.0   0.0   0.0   0.0  \n",
      "25     0.0   0.0   0.0   0.0   0.0   0.0   0.0   0.0   0.0   0.0  \n",
      "26     0.0   0.0   0.0   0.0   0.0   0.0   0.0   0.0   0.0   0.0  \n",
      "27     0.0   0.0   0.0   0.0   0.0   0.0   0.0   0.0   0.0   0.0  \n",
      "28     0.0   0.0   0.0   0.0   0.0   0.0   0.0   0.0   0.0   0.0  \n",
      "29     0.0   0.0   0.0   0.0   0.0   0.0   0.0   0.0   0.0   0.0  \n",
      "...    ...   ...   ...   ...   ...   ...   ...   ...   ...   ...  \n",
      "5970   0.0   0.0   0.0   0.0   0.0   0.0   0.0   0.0   0.0   0.0  \n",
      "5971   0.0   0.0   0.0   0.0   0.0   0.0   0.0   0.0   0.0   0.0  \n",
      "5972   0.0   0.0   0.0   0.0   0.0   0.0   0.0   0.0   0.0   0.0  \n",
      "5973   0.0   0.0   0.0   0.0   0.0   0.0   0.0   0.0   0.0   0.0  \n",
      "5974   0.0   0.0   0.0   0.0   0.0   0.0   0.0   0.0   0.0   0.0  \n",
      "5975   0.0   0.0   0.0   0.0   0.0   0.0   0.0   0.0   0.0   0.0  \n",
      "5976   0.0   0.0   0.0   0.0   0.0   0.0   0.0   0.0   0.0   0.0  \n",
      "5977   0.0   0.0   0.0   0.0   0.0   0.0   0.0   0.0   0.0   0.0  \n",
      "5978   0.0   0.0   0.0   0.0   0.0   0.0   0.0   0.0   0.0   0.0  \n",
      "5979   0.0   0.0   0.0   0.0   0.0   0.0   0.0   0.0   0.0   0.0  \n",
      "5980   0.0   0.0   0.0   0.0   0.0   0.0   0.0   0.0   0.0   0.0  \n",
      "5981   0.0   0.0   0.0   0.0   0.0   0.0   0.0   0.0   0.0   0.0  \n",
      "5982   0.0   0.0   0.0   0.0   0.0   0.0   0.0   0.0   0.0   0.0  \n",
      "5983   0.0   0.0   0.0   0.0   0.0   0.0   0.0   0.0   0.0   0.0  \n",
      "5984   0.0   0.0   0.0   0.0   0.0   0.0   0.0   0.0   0.0   0.0  \n",
      "5985   0.0   0.0   0.0   0.0   0.0   0.0   0.0   0.0   0.0   0.0  \n",
      "5986   0.0   0.0   0.0   0.0   0.0   0.0   0.0   0.0   0.0   0.0  \n",
      "5987   0.0   0.0   0.0   0.0   0.0   0.0   0.0   0.0   0.0   0.0  \n",
      "5988   0.0   0.0   0.0   0.0   0.0   0.0   0.0   0.0   0.0   0.0  \n",
      "5989   0.0   0.0   0.0   0.0   0.0   0.0   0.0   0.0   0.0   0.0  \n",
      "5990   0.0   0.0   0.0   0.0   0.0   0.0   0.0   0.0   0.0   0.0  \n",
      "5991   0.0   0.0   0.0   0.0   0.0   0.0   0.0   0.0   0.0   0.0  \n",
      "5992   0.0   0.0   0.0   0.0   0.0   0.0   0.0   0.0   0.0   0.0  \n",
      "5993   0.0   0.0   0.0   0.0   0.0   0.0   0.0   0.0   0.0   0.0  \n",
      "5994   0.0   0.0   0.0   0.0   0.0   0.0   0.0   0.0   0.0   0.0  \n",
      "5995   0.0   0.0   0.0   0.0   0.0   0.0   0.0   0.0   0.0   0.0  \n",
      "5996   0.0   0.0   0.0   0.0   0.0   0.0   0.0   0.0   0.0   0.0  \n",
      "5997   0.0   0.0   0.0   0.0   0.0   0.0   0.0   0.0   0.0   0.0  \n",
      "5998   0.0   0.0   0.0   0.0   0.0   0.0   0.0   0.0   0.0   0.0  \n",
      "5999   0.0   0.0   0.0   0.0   0.0   0.0   0.0   0.0   0.0   0.0  \n",
      "\n",
      "[6000 rows x 2978 columns]\n"
     ]
    }
   ],
   "source": [
    "df2=pd.DataFrame(X)\n",
    "print(df2)"
   ]
  },
  {
   "cell_type": "code",
   "execution_count": 13,
   "metadata": {},
   "outputs": [
    {
     "data": {
      "text/plain": [
       "(6000, 2978)"
      ]
     },
     "execution_count": 13,
     "metadata": {},
     "output_type": "execute_result"
    }
   ],
   "source": [
    "X.shape\n"
   ]
  },
  {
   "cell_type": "code",
   "execution_count": 83,
   "metadata": {},
   "outputs": [],
   "source": [
    "from sklearn.cross_validation import KFold\n",
    "from sklearn.feature_extraction.text import TfidfVectorizer\n",
    "\n",
    "def twitterKNN():\n",
    "    Accuracy=dict()\n",
    "    F1scoremacro=dict()\n",
    "    F1scoremicro=dict()\n",
    "    \n",
    "    \n",
    "    \n",
    "    file = \"../data/twitter/twitter.txt\"\n",
    "    with open(file) as f:\n",
    "        \n",
    "        content = f.readlines()\n",
    "        \n",
    "    content = [str(x.strip()) for x in content] \n",
    "    \n",
    "        \n",
    "    #print(content)\n",
    "    file_y = \"../data/twitter/twitter_label.txt\"\n",
    "    with open(file_y) as f:\n",
    "        content_y = f.readlines()\n",
    "    y = [str(x.strip()) for x in content_y]\n",
    "\n",
    "    X_train, X_test, y_train, y_test = train_test_split(content,y, test_size=0.20, random_state=42)\n",
    "   \n",
    "    X = np.array(X_train)\n",
    "    y = np.array(y_train)\n",
    "    kf = KFold(y.shape[0],n_folds=10)\n",
    "    print(X.shape)\n",
    "    print(y.shape)\n",
    "    \n",
    "    l=0\n",
    "    for i in range(2,4,1):\n",
    "        accuracies=[]\n",
    "        f1scoremacro=[]\n",
    "        f1scoremicro=[]\n",
    "        for train_index, validation_index in kf:\n",
    "           #print(\"TRAIN:\", train_index, \"TEST:\", test_index)\n",
    "            print (l)\n",
    "            #print(X)\n",
    "            l+=1\n",
    "            X_train, X_val = X[train_index], X[validation_index]\n",
    "            y_train, y_val = y[train_index], y[validation_index]\n",
    "            vectorizer = TfidfVectorizer()\n",
    "            vectorizer.fit(X_train)\n",
    "            vector_X = vectorizer.transform(X_train)\n",
    "            X = vector_X.toarray()\n",
    "            vector = vectorizer.transform(X_val)\n",
    "            X_val1 = vector.toarray()\n",
    "\n",
    "            df_train = pd.concat([pd.DataFrame(X), pd.DataFrame(y_train)],axis = 1)\n",
    "            df_test = pd.concat([pd.DataFrame(X_val1),pd.DataFrame( y_val)],axis = 1)\n",
    "            train_data = df_train.values.tolist()\n",
    "            val_data = df_test.values.tolist()\n",
    "            accuracy,f1_scoremacro,f1_scoremicro = main(i,train_data,val_data,y_val)\n",
    "            accuracies.append(accuracy)\n",
    "            f1scoremacro.append(f1_scoremacro)\n",
    "            f1scoremicro.append(f1_scoremicro)\n",
    "        Accuracy[i]=sum(accuracies)/float(len(accuracies))\n",
    "        F1scoremacro[i]=sum(f1scoremacro)/float(len(f1scoremacro))\n",
    "        F1scoremicro[i]=sum(f1scoremicro)/float(len(f1scoremicro))\n",
    "        \n",
    "            #print(\"Nearest neighbor self created\")\n",
    "            #print(\"Test accuracy :: \",accuracy)\n",
    "            #print(\"Test Macro F1-score :: \",f1_scoremacro)\n",
    "            #print(\"Test Micro F1-score :: \",f1_scoremicro)\n",
    "    return Accuracy,F1scoremacro,F1scoremicro,X_test,y_test,X_train,y_train\n",
    "\n",
    "\n",
    "    "
   ]
  },
  {
   "cell_type": "code",
   "execution_count": null,
   "metadata": {},
   "outputs": [
    {
     "name": "stdout",
     "output_type": "stream",
     "text": [
      "(4800,)\n",
      "(4800,)\n",
      "0\n"
     ]
    }
   ],
   "source": [
    "Accuracy,F1scoremacro,F1scoremicro,X_test,y_test,X_train,y_train = twitterKNN()"
   ]
  },
  {
   "cell_type": "code",
   "execution_count": 76,
   "metadata": {},
   "outputs": [
    {
     "data": {
      "text/plain": [
       "{}"
      ]
     },
     "execution_count": 76,
     "metadata": {},
     "output_type": "execute_result"
    }
   ],
   "source": [
    "Accuracy"
   ]
  },
  {
   "cell_type": "code",
   "execution_count": null,
   "metadata": {},
   "outputs": [],
   "source": []
  }
 ],
 "metadata": {
  "kernelspec": {
   "display_name": "Python 3",
   "language": "python",
   "name": "python3"
  },
  "language_info": {
   "codemirror_mode": {
    "name": "ipython",
    "version": 3
   },
   "file_extension": ".py",
   "mimetype": "text/x-python",
   "name": "python",
   "nbconvert_exporter": "python",
   "pygments_lexer": "ipython3",
   "version": "3.7.0"
  }
 },
 "nbformat": 4,
 "nbformat_minor": 2
}
