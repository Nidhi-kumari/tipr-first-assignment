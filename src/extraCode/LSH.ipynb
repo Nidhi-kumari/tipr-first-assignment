{
 "cells": [
  {
   "cell_type": "code",
   "execution_count": 62,
   "metadata": {},
   "outputs": [],
   "source": [
    "import pandas as pd\n",
    "import numpy as np\n",
    "hash_size = 2\n",
    "import math\n",
    "import operator\n",
    "X = pd.read_csv(\"../data/dolphins/dolphins.csv\",encoding = 'utf8',sep='\\s+',header=None)\n",
    "y = pd.read_csv(\"../data/dolphins/dolphins_label.csv\",encoding = 'utf8',sep='\\s+',names=['label'])\n",
    "input_dim = X.shape[1]"
   ]
  },
  {
   "cell_type": "code",
   "execution_count": 49,
   "metadata": {},
   "outputs": [],
   "source": [
    "hash_table = dict()\n",
    "projections = np.random.randn(hash_size, input_dim)"
   ]
  },
  {
   "cell_type": "code",
   "execution_count": 23,
   "metadata": {},
   "outputs": [],
   "source": [
    "def generateHash(dataPoint):\n",
    "    bools = (dataPoint > 0).astype('int')\n",
    "    #print(''.join(bools.astype('str')))\n",
    "    return ''.join(bools.astype('str'))"
   ]
  },
  {
   "cell_type": "code",
   "execution_count": 4,
   "metadata": {},
   "outputs": [],
   "source": [
    "def hashItem(dataPoint, label):\n",
    "        hash_value = generateHash(dataPoint)\n",
    "        hash_table[hash_value] = hash_table\\\n",
    "            .get(hash_value, list()) + [label]"
   ]
  },
  {
   "cell_type": "code",
   "execution_count": 5,
   "metadata": {},
   "outputs": [],
   "source": [
    "def getHashItem(dataPoint):\n",
    "        hash_value = generateHash(dataPoint)\n",
    "        return hash_table.get(hash_value, [])"
   ]
  },
  {
   "cell_type": "code",
   "execution_count": 6,
   "metadata": {},
   "outputs": [],
   "source": [
    "def cosine_sim(hash_value1,hash_value2):\n",
    "    return np.dot(hash_value1,hash_value2)(np.linalg.norm(hash_value1))(np.linalg.norm(hash_value2))"
   ]
  },
  {
   "cell_type": "code",
   "execution_count": 7,
   "metadata": {},
   "outputs": [],
   "source": [
    "temp=[]\n",
    "\n",
    "for row in X.iterrows():\n",
    "    index, data = row\n",
    "    temp.append(data.tolist())"
   ]
  },
  {
   "cell_type": "code",
   "execution_count": 8,
   "metadata": {},
   "outputs": [],
   "source": [
    "for i in range(X.shape[0]):\n",
    "    dataPoint = temp[i]\n",
    "    #print(generateHash(dataPoint))\n",
    "    hashItem(dataPoint,y['label'][i])"
   ]
  },
  {
   "cell_type": "code",
   "execution_count": 13,
   "metadata": {},
   "outputs": [
    {
     "name": "stdout",
     "output_type": "stream",
     "text": [
      "1100\n"
     ]
    }
   ],
   "source": [
    "#hash_table\n",
    "dataPoint = temp[6]\n",
    "#print(generateHash(dataPoint))\n",
    "print(generateHash(dataPoint))\n"
   ]
  },
  {
   "cell_type": "code",
   "execution_count": 15,
   "metadata": {},
   "outputs": [
    {
     "name": "stdout",
     "output_type": "stream",
     "text": [
      "62\n"
     ]
    }
   ],
   "source": [
    "print(len(temp))\n"
   ]
  },
  {
   "cell_type": "code",
   "execution_count": 19,
   "metadata": {},
   "outputs": [],
   "source": [
    "dictionary={}\n",
    "for index, item in enumerate(temp):\n",
    "    hashvalue = generateHash(item)\n",
    "    dictionary[hashvalue]=dictionary\\\n",
    "            .get(hashvalue, list()) + [index]"
   ]
  },
  {
   "cell_type": "code",
   "execution_count": 20,
   "metadata": {},
   "outputs": [
    {
     "data": {
      "text/plain": [
       "{'1100': [0,\n",
       "  1,\n",
       "  3,\n",
       "  5,\n",
       "  6,\n",
       "  16,\n",
       "  17,\n",
       "  18,\n",
       "  19,\n",
       "  21,\n",
       "  32,\n",
       "  33,\n",
       "  36,\n",
       "  37,\n",
       "  38,\n",
       "  39,\n",
       "  40,\n",
       "  41,\n",
       "  42,\n",
       "  44,\n",
       "  45,\n",
       "  46,\n",
       "  53,\n",
       "  54,\n",
       "  56,\n",
       "  59,\n",
       "  60],\n",
       " '1000': [2, 4],\n",
       " '1101': [7,\n",
       "  8,\n",
       "  9,\n",
       "  10,\n",
       "  11,\n",
       "  12,\n",
       "  13,\n",
       "  14,\n",
       "  15,\n",
       "  20,\n",
       "  24,\n",
       "  25,\n",
       "  26,\n",
       "  27,\n",
       "  28,\n",
       "  29,\n",
       "  30,\n",
       "  34,\n",
       "  35,\n",
       "  43,\n",
       "  49,\n",
       "  50,\n",
       "  51,\n",
       "  55,\n",
       "  57,\n",
       "  58,\n",
       "  61],\n",
       " '1110': [22, 23, 47, 48, 52],\n",
       " '1001': [31]}"
      ]
     },
     "execution_count": 20,
     "metadata": {},
     "output_type": "execute_result"
    }
   ],
   "source": [
    "dictionary"
   ]
  },
  {
   "cell_type": "code",
   "execution_count": 1,
   "metadata": {},
   "outputs": [],
   "source": [
    "class LSH:\n",
    "    def __init__(self, num_tables, hash_size, inp_dimensions):\n",
    "        self.num_tables = num_tables\n",
    "        self.hash_size = hash_size\n",
    "        self.inp_dimensions = inp_dimensions\n",
    "        self.hash_tables = list()\n",
    "        for i in range(self.num_tables):\n",
    "            self.hash_tables.append(HashTable(self.hash_size, self.inp_dimensions))\n",
    "    \n",
    "    def __setitem__(self, inp_vec, label):\n",
    "        for table in self.hash_tables:\n",
    "            table[inp_vec] = label\n",
    "    \n",
    "    def __getitem__(self, inp_vec):\n",
    "        results = list()\n",
    "        for table in self.hash_tables:\n",
    "            results.extend(table[inp_vec])\n",
    "        return list(set(results))"
   ]
  },
  {
   "cell_type": "code",
   "execution_count": 7,
   "metadata": {},
   "outputs": [],
   "source": [
    "def Distance(x, y):\n",
    "    distance = 0\n",
    "    for i in range(len(x)-1):\n",
    "        distance += pow((x[i]-y[i]), 2)\n",
    "    return math.sqrt(distance)"
   ]
  },
  {
   "cell_type": "code",
   "execution_count": 57,
   "metadata": {},
   "outputs": [],
   "source": [
    "def kNeighbors(data, query, k):\n",
    "    distances = []\n",
    "    neighbors = []\n",
    "   \n",
    "    for i in range(len(data)):\n",
    "        distance = Distance(data[i], query)\n",
    "        distances.append((data[i], distance))\n",
    "    distances.sort(key=operator.itemgetter(1))\n",
    "    #print(type(distances))\n",
    "    #print(distances)\n",
    "    #print(distances)\n",
    "    for i in range(k):\n",
    "        neighbors.append(distances[i][0])\n",
    "    return neighbors\n"
   ]
  },
  {
   "cell_type": "code",
   "execution_count": 9,
   "metadata": {},
   "outputs": [],
   "source": [
    "def Predict(neighbors):\n",
    "    predicted = {}\n",
    "    for i in range(len(neighbors)):\n",
    "        output = neighbors[i][-1]\n",
    "        if output in predicted:\n",
    "            predicted[output] += 1\n",
    "        else:\n",
    "            predicted[output] = 1\n",
    "    pre = sorted(predicted.items(), key=operator.itemgetter(1), reverse=True)\n",
    "    #print(pre)\n",
    "    return pre[0][0]"
   ]
  },
  {
   "cell_type": "code",
   "execution_count": null,
   "metadata": {},
   "outputs": [],
   "source": [
    "def main(i,train_data,test_data,y_test):\n",
    "    y_pred=[]\n",
    "    k = i\n",
    "    for i in range(len(test_data)):\n",
    "        neighbors = kNeighbors(train_data, test_data[i], k)\n",
    "        result = Predict(neighbors)\n",
    "        y_pred.append(result)\n",
    "    accuracy = accuracy_score(y_test, y_pred)\n",
    "    f1scoremacro = f1_score(y_test, y_pred,average='macro')\n",
    "    f1scoremicro = f1_score(y_test, y_pred,average='micro')\n",
    "    return accuracy,f1scoremacro,f1scoremicro"
   ]
  },
  {
   "cell_type": "code",
   "execution_count": null,
   "metadata": {},
   "outputs": [],
   "source": []
  },
  {
   "cell_type": "code",
   "execution_count": null,
   "metadata": {},
   "outputs": [],
   "source": []
  },
  {
   "cell_type": "code",
   "execution_count": 63,
   "metadata": {},
   "outputs": [
    {
     "name": "stdout",
     "output_type": "stream",
     "text": [
      "------------\n",
      "[[0]\n",
      " [0]\n",
      " [0]\n",
      " [0]\n",
      " [0]\n",
      " [2]\n",
      " [0]]\n",
      "predicted\n",
      "[1.0, 3.0, 1.0, 1.0, 1.0, 1.0, 1.0]\n",
      "------------\n",
      "[[1]\n",
      " [3]\n",
      " [1]\n",
      " [1]\n",
      " [1]\n",
      " [1]\n",
      " [1]]\n",
      "predicted\n",
      "[1.0, 0.0, 0.0, 0.0, 0.0, 2.0, 2.0]\n",
      "------------\n",
      "[[1]\n",
      " [0]\n",
      " [0]\n",
      " [0]\n",
      " [0]\n",
      " [2]]\n",
      "predicted\n",
      "[2.0, 2.0, 2.0, 2.0, 1.0, 1.0]\n",
      "------------\n",
      "[[2]\n",
      " [2]\n",
      " [2]\n",
      " [2]\n",
      " [1]\n",
      " [1]]\n",
      "predicted\n",
      "[1.0, 1.0, 1.0, 1.0, 1.0, 1.0]\n",
      "------------\n",
      "[[1]\n",
      " [1]\n",
      " [1]\n",
      " [1]\n",
      " [1]\n",
      " [1]]\n",
      "predicted\n",
      "[0.0, 2.0, 0.0, 1.0, 2.0, 2.0]\n",
      "------------\n",
      "[[0]\n",
      " [2]\n",
      " [0]\n",
      " [1]\n",
      " [2]\n",
      " [2]]\n",
      "predicted\n",
      "[0.0, 0.0, 0.0, 0.0, 0.0, 0.0]\n",
      "------------\n",
      "[[0]\n",
      " [0]\n",
      " [0]\n",
      " [0]\n",
      " [0]\n",
      " [0]]\n",
      "predicted\n",
      "[0.0, 0.0, 2.0, 2.0, 2.0, 1.0]\n",
      "------------\n",
      "[[0]\n",
      " [0]\n",
      " [2]\n",
      " [2]\n",
      " [2]\n",
      " [1]]\n",
      "predicted\n",
      "[1.0, 1.0, 2.0, 2.0, 2.0, 1.0]\n",
      "------------\n",
      "[[1]\n",
      " [1]\n",
      " [2]\n",
      " [2]\n",
      " [2]\n",
      " [1]]\n",
      "predicted\n",
      "[0.0, 3.0, 0.0, 0.0, 0.0, 1.0]\n",
      "------------\n",
      "[[0]\n",
      " [3]\n",
      " [0]\n",
      " [0]\n",
      " [0]\n",
      " [1]]\n",
      "predicted\n",
      "[0.0, 1.0, 0.0, 0.0, 0.0, 1.0]\n"
     ]
    }
   ],
   "source": [
    "from sklearn.cross_validation import KFold\n",
    "\n",
    "k=1\n",
    "projections = np.random.randn(input_dim,hash_size, )\n",
    "transformation_matrix=np.asmatrix(projections)\n",
    "data=np.asmatrix(X)\n",
    "X = data * transformation_matrix\n",
    "\n",
    "X = np.array(X)\n",
    "y = np.array(y)\n",
    "kf = KFold(y.shape[0],n_folds=10)\n",
    "\n",
    "for train_index, validation_index in kf:\n",
    "            \n",
    "    X_train, X_val = X[train_index], X[validation_index]\n",
    "    y_train, y_val = y[train_index], y[validation_index]\n",
    "    df_train = pd.concat([pd.DataFrame(X), pd.DataFrame(y_train)],axis = 1)\n",
    "    df_test = pd.concat([pd.DataFrame(X_val),pd.DataFrame( y_val)],axis = 1)\n",
    "    train_data = df_train.values.tolist()\n",
    "    val_data = df_test.values.tolist()\n",
    "    train_data=np.asarray(train_data)\n",
    "    #accuracy,f1_scoremacro,f1_scoremicro = main(3,train_data,val_data,y_val)\n",
    "    dictionary={}\n",
    "    \n",
    "    \n",
    "    for index, item in enumerate(X_train):\n",
    "        #send same projection matrix to generatehash function\n",
    "        hashvalue = generateHash(item)\n",
    "        dictionary[hashvalue]=dictionary\\\n",
    "                .get(hashvalue, list()) + [index]\n",
    "    data=[]  \n",
    "    y_pred=[]\n",
    "    #print(type(train_data))\n",
    "    #print(type(X_train))\n",
    "    for index,item in enumerate(X_val):\n",
    "        hashvalue = generateHash(item)\n",
    "        for i in dictionary[hashvalue]:\n",
    "            data.append(train_data[i])\n",
    "        neighbors = kNeighbors(data, val_data[index], k)\n",
    "        result = Predict(neighbors)\n",
    "        y_pred.append(result)\n",
    "    print(\"------------\")\n",
    "    print(y_val)\n",
    "    print(\"predicted\")\n",
    "    print(y_pred)      \n",
    "        #for each i in dictionary[hashvalue] #hashvalue obtained from above\n",
    "        # calculate euclidean distance between x_train[i] and item for 5 nn return the top 5 with least distance\n",
    "        #and finally take the majority vote\n",
    "        #note that X_train[i] and item are the projected data\n"
   ]
  },
  {
   "cell_type": "code",
   "execution_count": null,
   "metadata": {},
   "outputs": [],
   "source": [
    "def generateHash(dataPoint):\n",
    "    bools = (np.dot(dataPoint,projections.T) > 0).astype('int')\n",
    "    #print(''.join(bools.astype('str')))\n",
    "    return ''.join(bools.astype('str'))"
   ]
  },
  {
   "cell_type": "code",
   "execution_count": null,
   "metadata": {},
   "outputs": [],
   "source": [
    "def calculateHamming()"
   ]
  },
  {
   "cell_type": "code",
   "execution_count": 23,
   "metadata": {},
   "outputs": [
    {
     "ename": "NameError",
     "evalue": "name 'hello' is not defined",
     "output_type": "error",
     "traceback": [
      "\u001b[0;31m---------------------------------------------------------------------------\u001b[0m",
      "\u001b[0;31mNameError\u001b[0m                                 Traceback (most recent call last)",
      "\u001b[0;32m<ipython-input-23-f572d396fae9>\u001b[0m in \u001b[0;36m<module>\u001b[0;34m()\u001b[0m\n\u001b[0;32m----> 1\u001b[0;31m \u001b[0mhello\u001b[0m\u001b[0;34m\u001b[0m\u001b[0m\n\u001b[0m",
      "\u001b[0;31mNameError\u001b[0m: name 'hello' is not defined"
     ]
    }
   ],
   "source": [
    "from sklearn.cross_validation import KFold\n",
    "\n",
    "k=1\n",
    "\n",
    "\n",
    "X = np.array(X)\n",
    "y = np.array(y)\n",
    "kf = KFold(y.shape[0],n_folds=10)\n",
    "\n",
    "for train_index, validation_index in kf:\n",
    "            \n",
    "    X_train, X_val = X[train_index], X[validation_index]\n",
    "    y_train, y_val = y[train_index], y[validation_index]\n",
    "    \n",
    "    dictionary={}\n",
    "    \n",
    "    \n",
    "    for index, item in enumerate(X_train):\n",
    "        #send same projection matrix to generatehash function\n",
    "        hashvalue = generateHash(item)\n",
    "        dictionary[hashvalue]=y_train[index]\n",
    "   \n",
    "    y_pred=[]\n",
    "    #print(type(train_data))\n",
    "    #print(type(X_train))\n",
    "    for index,item in enumerate(X_val):\n",
    "        hashvalue = generateHash(item)\n",
    "        for i in dictionary[hashvalue]:\n",
    "            data.append(train_data[i])\n",
    "        neighbors = kNeighbors(data, val_data[index], k)\n",
    "        result = Predict(neighbors)\n",
    "        y_pred.append(result)\n",
    "    print(\"------------\")\n",
    "    print(y_val)\n",
    "    print(\"predicted\")\n",
    "    print(y_pred)"
   ]
  },
  {
   "cell_type": "code",
   "execution_count": null,
   "metadata": {},
   "outputs": [],
   "source": []
  }
 ],
 "metadata": {
  "kernelspec": {
   "display_name": "Python 3",
   "language": "python",
   "name": "python3"
  },
  "language_info": {
   "codemirror_mode": {
    "name": "ipython",
    "version": 3
   },
   "file_extension": ".py",
   "mimetype": "text/x-python",
   "name": "python",
   "nbconvert_exporter": "python",
   "pygments_lexer": "ipython3",
   "version": "3.7.0"
  }
 },
 "nbformat": 4,
 "nbformat_minor": 2
}
