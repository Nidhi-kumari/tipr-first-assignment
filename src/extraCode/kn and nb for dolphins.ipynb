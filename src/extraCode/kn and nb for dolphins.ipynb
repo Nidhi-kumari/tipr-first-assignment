{
 "cells": [
  {
   "cell_type": "code",
   "execution_count": 1,
   "metadata": {},
   "outputs": [
    {
     "name": "stderr",
     "output_type": "stream",
     "text": [
      "/home/nidhi/anaconda3/lib/python3.7/site-packages/sklearn/cross_validation.py:41: DeprecationWarning: This module was deprecated in version 0.18 in favor of the model_selection module into which all the refactored classes and functions are moved. Also note that the interface of the new CV iterators are different from that of this module. This module will be removed in 0.20.\n",
      "  \"This module will be removed in 0.20.\", DeprecationWarning)\n"
     ]
    }
   ],
   "source": [
    "import numpy as np\n",
    "import pandas as pd\n",
    "from sklearn.model_selection import train_test_split\n",
    "\n",
    "from sklearn.naive_bayes import MultinomialNB\n",
    "from sklearn.cross_validation import KFold\n",
    "from sklearn.metrics import accuracy_score,f1_score\n",
    "from sklearn.naive_bayes import GaussianNB\n",
    "from sklearn.neighbors import KNeighborsClassifier\n",
    "import warnings\n",
    "warnings.filterwarnings(\"ignore\")"
   ]
  },
  {
   "cell_type": "code",
   "execution_count": 2,
   "metadata": {},
   "outputs": [],
   "source": [
    "pubmed=pd.read_csv(\"../data/dolphins/dolphins.csv\",encoding = 'utf8',sep='\\s+',header=None)\n",
    "from sklearn.metrics import f1_score\n",
    "def evaluation_dolphinsKNNLIB():\n",
    "    Accuracy=dict()\n",
    "    F1scoremacro=dict()\n",
    "    F1scoremicro=dict()\n",
    "    neigh = KNeighborsClassifier(n_neighbors=2)\n",
    "    for i in [2,4,8,16]:\n",
    "        filename =  '../Reduced_dim/dolphins2/dolphins_%d.csv'%(i,)\n",
    "        print(filename)\n",
    "        X=pd.read_csv(filename,encoding = 'utf8',header=None)\n",
    "        y=pd.read_csv(\"../data/dolphins/dolphins_label.csv\",encoding = 'utf8',names = [\"label\"])\n",
    "        \n",
    "        X = np.array(X)\n",
    "        y = np.array(y)\n",
    "    \n",
    "        kf = KFold(y.shape[0],n_folds=10)\n",
    "        \n",
    "        \n",
    "        accuracies=[]\n",
    "        f1scoremacro=[]\n",
    "        f1scoremicro=[]\n",
    "        for train_index, validation_index in kf:\n",
    "           #print(\"TRAIN:\", train_index, \"TEST:\", test_index)\n",
    "            \n",
    "            #print(X)\n",
    "            \n",
    "            X_train, X_test = X[train_index], X[validation_index]\n",
    "            y_train, y_test = y[train_index], y[validation_index]\n",
    "            neigh.fit(X_train, y_train)\n",
    "            y_pred = neigh.predict(X_test)\n",
    "            \n",
    "            \n",
    "            accuracy = accuracy_score(y_test, y_pred)\n",
    "            f1_scoremacro = f1_score(y_test, y_pred,average='macro')\n",
    "            f1_scoremicro = f1_score(y_test, y_pred,average='micro')\n",
    "            accuracies.append(accuracy)\n",
    "            f1scoremacro.append(f1_scoremacro)\n",
    "            f1scoremicro.append(f1_scoremicro)\n",
    "            \n",
    "            \n",
    "            \n",
    "        Accuracy[i]=sum(accuracies)/float(len(accuracies))\n",
    "        F1scoremacro[i]=sum(f1scoremacro)/float(len(f1scoremacro))\n",
    "        F1scoremicro[i]=sum(f1scoremicro)/float(len(f1scoremicro))\n",
    "    return Accuracy,F1scoremacro,F1scoremicro\n"
   ]
  },
  {
   "cell_type": "code",
   "execution_count": 3,
   "metadata": {},
   "outputs": [
    {
     "name": "stdout",
     "output_type": "stream",
     "text": [
      "../Reduced_dim/dolphins2/dolphins_2.csv\n",
      "../Reduced_dim/dolphins2/dolphins_4.csv\n",
      "../Reduced_dim/dolphins2/dolphins_8.csv\n",
      "../Reduced_dim/dolphins2/dolphins_16.csv\n"
     ]
    }
   ],
   "source": [
    "AccuracyKNNLIB,F1scoremacroKNNLIB,F1scoremicroKNNLIB = evaluation_dolphinsKNNLIB()"
   ]
  },
  {
   "cell_type": "code",
   "execution_count": 4,
   "metadata": {},
   "outputs": [
    {
     "name": "stdout",
     "output_type": "stream",
     "text": [
      "{2: 0.8738095238095237, 4: 0.9023809523809524, 8: 0.8880952380952382, 16: 0.9047619047619049}\n"
     ]
    }
   ],
   "source": [
    "print(AccuracyKNNLIB)"
   ]
  },
  {
   "cell_type": "code",
   "execution_count": 6,
   "metadata": {},
   "outputs": [],
   "source": [
    "import pickle\n",
    "\n",
    "\n",
    "f = open(\"evaluation_dolphinsKNNLIB\", \"wb\")\n",
    "pickle.dump(AccuracyKNNLIB,f)\n",
    "pickle.dump(F1scoremacroKNNLIB, f)\n",
    "pickle.dump(F1scoremicroKNNLIB,f)\n",
    "f.close()"
   ]
  },
  {
   "cell_type": "code",
   "execution_count": 11,
   "metadata": {},
   "outputs": [],
   "source": [
    "pubmed=pd.read_csv(\"../data/dolphins/dolphins.csv\",encoding = 'utf8',sep='\\s+',header=None)\n",
    "from sklearn.metrics import f1_score\n",
    "def evaluation_dolphinsNBLIB():\n",
    "    Accuracy=dict()\n",
    "    F1scoremacro=dict()\n",
    "    F1scoremicro=dict()\n",
    "    clf = GaussianNB() \n",
    "    for i in [2,4,8,16]:\n",
    "        filename =  '../Reduced_dim/dolphins2/dolphins_%d.csv'%(i,)\n",
    "        print(filename)\n",
    "        X=pd.read_csv(filename,encoding = 'utf8',header=None)\n",
    "        y=pd.read_csv(\"../data/dolphins/dolphins.csv\",encoding = 'utf8',names = [\"label\"])\n",
    "        \n",
    "        X = np.array(X)\n",
    "        y = np.array(y)\n",
    "    \n",
    "        kf = KFold(y.shape[0],n_folds=10)\n",
    "        \n",
    "        \n",
    "        accuracies=[]\n",
    "        f1scoremacro=[]\n",
    "        f1scoremicro=[]\n",
    "        for train_index, validation_index in kf:\n",
    "           #print(\"TRAIN:\", train_index, \"TEST:\", test_index)\n",
    "            \n",
    "            #print(X)\n",
    "            \n",
    "            X_train, X_test = X[train_index], X[validation_index]\n",
    "            y_train, y_test = y[train_index], y[validation_index]\n",
    "            clf.fit(X_train, y_train)\n",
    "            y_pred = clf.predict(X_test)\n",
    "            \n",
    "            \n",
    "            accuracy = accuracy_score(y_test, y_pred)\n",
    "            f1_scoremacro = f1_score(y_test, y_pred,average='macro')\n",
    "            f1_scoremicro = f1_score(y_test, y_pred,average='micro')\n",
    "            accuracies.append(accuracy)\n",
    "            f1scoremacro.append(f1_scoremacro)\n",
    "            f1scoremicro.append(f1_scoremicro)\n",
    "            \n",
    "            \n",
    "            \n",
    "        Accuracy[i]=sum(accuracies)/float(len(accuracies))\n",
    "        F1scoremacro[i]=sum(f1scoremacro)/float(len(f1scoremacro))\n",
    "        F1scoremicro[i]=sum(f1scoremicro)/float(len(f1scoremicro))\n",
    "    return Accuracy,F1scoremacro,F1scoremicro\n"
   ]
  },
  {
   "cell_type": "code",
   "execution_count": 12,
   "metadata": {},
   "outputs": [
    {
     "name": "stdout",
     "output_type": "stream",
     "text": [
      "../Reduced_dim/dolphins2/dolphins_2.csv\n"
     ]
    },
    {
     "ename": "FileNotFoundError",
     "evalue": "File b'../Reduced_dim/dolphins2/dolphins_2.csv' does not exist",
     "output_type": "error",
     "traceback": [
      "\u001b[0;31m---------------------------------------------------------------------------\u001b[0m",
      "\u001b[0;31mFileNotFoundError\u001b[0m                         Traceback (most recent call last)",
      "\u001b[0;32m<ipython-input-12-de477c36303a>\u001b[0m in \u001b[0;36m<module>\u001b[0;34m()\u001b[0m\n\u001b[0;32m----> 1\u001b[0;31m \u001b[0mAccuracyNBLIB\u001b[0m\u001b[0;34m,\u001b[0m\u001b[0mF1scoremacroNBLIB\u001b[0m\u001b[0;34m,\u001b[0m\u001b[0mF1scoremicroNBLIB\u001b[0m \u001b[0;34m=\u001b[0m \u001b[0mevaluation_dolphinsNBLIB\u001b[0m\u001b[0;34m(\u001b[0m\u001b[0;34m)\u001b[0m\u001b[0;34m\u001b[0m\u001b[0m\n\u001b[0m",
      "\u001b[0;32m<ipython-input-11-a689506e5197>\u001b[0m in \u001b[0;36mevaluation_dolphinsNBLIB\u001b[0;34m()\u001b[0m\n\u001b[1;32m      9\u001b[0m         \u001b[0mfilename\u001b[0m \u001b[0;34m=\u001b[0m  \u001b[0;34m'../Reduced_dim/dolphins2/dolphins_%d.csv'\u001b[0m\u001b[0;34m%\u001b[0m\u001b[0;34m(\u001b[0m\u001b[0mi\u001b[0m\u001b[0;34m,\u001b[0m\u001b[0;34m)\u001b[0m\u001b[0;34m\u001b[0m\u001b[0m\n\u001b[1;32m     10\u001b[0m         \u001b[0mprint\u001b[0m\u001b[0;34m(\u001b[0m\u001b[0mfilename\u001b[0m\u001b[0;34m)\u001b[0m\u001b[0;34m\u001b[0m\u001b[0m\n\u001b[0;32m---> 11\u001b[0;31m         \u001b[0mX\u001b[0m\u001b[0;34m=\u001b[0m\u001b[0mpd\u001b[0m\u001b[0;34m.\u001b[0m\u001b[0mread_csv\u001b[0m\u001b[0;34m(\u001b[0m\u001b[0mfilename\u001b[0m\u001b[0;34m,\u001b[0m\u001b[0mencoding\u001b[0m \u001b[0;34m=\u001b[0m \u001b[0;34m'utf8'\u001b[0m\u001b[0;34m,\u001b[0m\u001b[0mheader\u001b[0m\u001b[0;34m=\u001b[0m\u001b[0;32mNone\u001b[0m\u001b[0;34m)\u001b[0m\u001b[0;34m\u001b[0m\u001b[0m\n\u001b[0m\u001b[1;32m     12\u001b[0m         \u001b[0my\u001b[0m\u001b[0;34m=\u001b[0m\u001b[0mpd\u001b[0m\u001b[0;34m.\u001b[0m\u001b[0mread_csv\u001b[0m\u001b[0;34m(\u001b[0m\u001b[0;34m\"../data/dolphins/dolphins.csv\"\u001b[0m\u001b[0;34m,\u001b[0m\u001b[0mencoding\u001b[0m \u001b[0;34m=\u001b[0m \u001b[0;34m'utf8'\u001b[0m\u001b[0;34m,\u001b[0m\u001b[0mnames\u001b[0m \u001b[0;34m=\u001b[0m \u001b[0;34m[\u001b[0m\u001b[0;34m\"label\"\u001b[0m\u001b[0;34m]\u001b[0m\u001b[0;34m)\u001b[0m\u001b[0;34m\u001b[0m\u001b[0m\n\u001b[1;32m     13\u001b[0m \u001b[0;34m\u001b[0m\u001b[0m\n",
      "\u001b[0;32m~/anaconda3/lib/python3.7/site-packages/pandas/io/parsers.py\u001b[0m in \u001b[0;36mparser_f\u001b[0;34m(filepath_or_buffer, sep, delimiter, header, names, index_col, usecols, squeeze, prefix, mangle_dupe_cols, dtype, engine, converters, true_values, false_values, skipinitialspace, skiprows, nrows, na_values, keep_default_na, na_filter, verbose, skip_blank_lines, parse_dates, infer_datetime_format, keep_date_col, date_parser, dayfirst, iterator, chunksize, compression, thousands, decimal, lineterminator, quotechar, quoting, escapechar, comment, encoding, dialect, tupleize_cols, error_bad_lines, warn_bad_lines, skipfooter, doublequote, delim_whitespace, low_memory, memory_map, float_precision)\u001b[0m\n\u001b[1;32m    676\u001b[0m                     skip_blank_lines=skip_blank_lines)\n\u001b[1;32m    677\u001b[0m \u001b[0;34m\u001b[0m\u001b[0m\n\u001b[0;32m--> 678\u001b[0;31m         \u001b[0;32mreturn\u001b[0m \u001b[0m_read\u001b[0m\u001b[0;34m(\u001b[0m\u001b[0mfilepath_or_buffer\u001b[0m\u001b[0;34m,\u001b[0m \u001b[0mkwds\u001b[0m\u001b[0;34m)\u001b[0m\u001b[0;34m\u001b[0m\u001b[0m\n\u001b[0m\u001b[1;32m    679\u001b[0m \u001b[0;34m\u001b[0m\u001b[0m\n\u001b[1;32m    680\u001b[0m     \u001b[0mparser_f\u001b[0m\u001b[0;34m.\u001b[0m\u001b[0m__name__\u001b[0m \u001b[0;34m=\u001b[0m \u001b[0mname\u001b[0m\u001b[0;34m\u001b[0m\u001b[0m\n",
      "\u001b[0;32m~/anaconda3/lib/python3.7/site-packages/pandas/io/parsers.py\u001b[0m in \u001b[0;36m_read\u001b[0;34m(filepath_or_buffer, kwds)\u001b[0m\n\u001b[1;32m    438\u001b[0m \u001b[0;34m\u001b[0m\u001b[0m\n\u001b[1;32m    439\u001b[0m     \u001b[0;31m# Create the parser.\u001b[0m\u001b[0;34m\u001b[0m\u001b[0;34m\u001b[0m\u001b[0m\n\u001b[0;32m--> 440\u001b[0;31m     \u001b[0mparser\u001b[0m \u001b[0;34m=\u001b[0m \u001b[0mTextFileReader\u001b[0m\u001b[0;34m(\u001b[0m\u001b[0mfilepath_or_buffer\u001b[0m\u001b[0;34m,\u001b[0m \u001b[0;34m**\u001b[0m\u001b[0mkwds\u001b[0m\u001b[0;34m)\u001b[0m\u001b[0;34m\u001b[0m\u001b[0m\n\u001b[0m\u001b[1;32m    441\u001b[0m \u001b[0;34m\u001b[0m\u001b[0m\n\u001b[1;32m    442\u001b[0m     \u001b[0;32mif\u001b[0m \u001b[0mchunksize\u001b[0m \u001b[0;32mor\u001b[0m \u001b[0miterator\u001b[0m\u001b[0;34m:\u001b[0m\u001b[0;34m\u001b[0m\u001b[0m\n",
      "\u001b[0;32m~/anaconda3/lib/python3.7/site-packages/pandas/io/parsers.py\u001b[0m in \u001b[0;36m__init__\u001b[0;34m(self, f, engine, **kwds)\u001b[0m\n\u001b[1;32m    785\u001b[0m             \u001b[0mself\u001b[0m\u001b[0;34m.\u001b[0m\u001b[0moptions\u001b[0m\u001b[0;34m[\u001b[0m\u001b[0;34m'has_index_names'\u001b[0m\u001b[0;34m]\u001b[0m \u001b[0;34m=\u001b[0m \u001b[0mkwds\u001b[0m\u001b[0;34m[\u001b[0m\u001b[0;34m'has_index_names'\u001b[0m\u001b[0;34m]\u001b[0m\u001b[0;34m\u001b[0m\u001b[0m\n\u001b[1;32m    786\u001b[0m \u001b[0;34m\u001b[0m\u001b[0m\n\u001b[0;32m--> 787\u001b[0;31m         \u001b[0mself\u001b[0m\u001b[0;34m.\u001b[0m\u001b[0m_make_engine\u001b[0m\u001b[0;34m(\u001b[0m\u001b[0mself\u001b[0m\u001b[0;34m.\u001b[0m\u001b[0mengine\u001b[0m\u001b[0;34m)\u001b[0m\u001b[0;34m\u001b[0m\u001b[0m\n\u001b[0m\u001b[1;32m    788\u001b[0m \u001b[0;34m\u001b[0m\u001b[0m\n\u001b[1;32m    789\u001b[0m     \u001b[0;32mdef\u001b[0m \u001b[0mclose\u001b[0m\u001b[0;34m(\u001b[0m\u001b[0mself\u001b[0m\u001b[0;34m)\u001b[0m\u001b[0;34m:\u001b[0m\u001b[0;34m\u001b[0m\u001b[0m\n",
      "\u001b[0;32m~/anaconda3/lib/python3.7/site-packages/pandas/io/parsers.py\u001b[0m in \u001b[0;36m_make_engine\u001b[0;34m(self, engine)\u001b[0m\n\u001b[1;32m   1012\u001b[0m     \u001b[0;32mdef\u001b[0m \u001b[0m_make_engine\u001b[0m\u001b[0;34m(\u001b[0m\u001b[0mself\u001b[0m\u001b[0;34m,\u001b[0m \u001b[0mengine\u001b[0m\u001b[0;34m=\u001b[0m\u001b[0;34m'c'\u001b[0m\u001b[0;34m)\u001b[0m\u001b[0;34m:\u001b[0m\u001b[0;34m\u001b[0m\u001b[0m\n\u001b[1;32m   1013\u001b[0m         \u001b[0;32mif\u001b[0m \u001b[0mengine\u001b[0m \u001b[0;34m==\u001b[0m \u001b[0;34m'c'\u001b[0m\u001b[0;34m:\u001b[0m\u001b[0;34m\u001b[0m\u001b[0m\n\u001b[0;32m-> 1014\u001b[0;31m             \u001b[0mself\u001b[0m\u001b[0;34m.\u001b[0m\u001b[0m_engine\u001b[0m \u001b[0;34m=\u001b[0m \u001b[0mCParserWrapper\u001b[0m\u001b[0;34m(\u001b[0m\u001b[0mself\u001b[0m\u001b[0;34m.\u001b[0m\u001b[0mf\u001b[0m\u001b[0;34m,\u001b[0m \u001b[0;34m**\u001b[0m\u001b[0mself\u001b[0m\u001b[0;34m.\u001b[0m\u001b[0moptions\u001b[0m\u001b[0;34m)\u001b[0m\u001b[0;34m\u001b[0m\u001b[0m\n\u001b[0m\u001b[1;32m   1015\u001b[0m         \u001b[0;32melse\u001b[0m\u001b[0;34m:\u001b[0m\u001b[0;34m\u001b[0m\u001b[0m\n\u001b[1;32m   1016\u001b[0m             \u001b[0;32mif\u001b[0m \u001b[0mengine\u001b[0m \u001b[0;34m==\u001b[0m \u001b[0;34m'python'\u001b[0m\u001b[0;34m:\u001b[0m\u001b[0;34m\u001b[0m\u001b[0m\n",
      "\u001b[0;32m~/anaconda3/lib/python3.7/site-packages/pandas/io/parsers.py\u001b[0m in \u001b[0;36m__init__\u001b[0;34m(self, src, **kwds)\u001b[0m\n\u001b[1;32m   1706\u001b[0m         \u001b[0mkwds\u001b[0m\u001b[0;34m[\u001b[0m\u001b[0;34m'usecols'\u001b[0m\u001b[0;34m]\u001b[0m \u001b[0;34m=\u001b[0m \u001b[0mself\u001b[0m\u001b[0;34m.\u001b[0m\u001b[0musecols\u001b[0m\u001b[0;34m\u001b[0m\u001b[0m\n\u001b[1;32m   1707\u001b[0m \u001b[0;34m\u001b[0m\u001b[0m\n\u001b[0;32m-> 1708\u001b[0;31m         \u001b[0mself\u001b[0m\u001b[0;34m.\u001b[0m\u001b[0m_reader\u001b[0m \u001b[0;34m=\u001b[0m \u001b[0mparsers\u001b[0m\u001b[0;34m.\u001b[0m\u001b[0mTextReader\u001b[0m\u001b[0;34m(\u001b[0m\u001b[0msrc\u001b[0m\u001b[0;34m,\u001b[0m \u001b[0;34m**\u001b[0m\u001b[0mkwds\u001b[0m\u001b[0;34m)\u001b[0m\u001b[0;34m\u001b[0m\u001b[0m\n\u001b[0m\u001b[1;32m   1709\u001b[0m \u001b[0;34m\u001b[0m\u001b[0m\n\u001b[1;32m   1710\u001b[0m         \u001b[0mpassed_names\u001b[0m \u001b[0;34m=\u001b[0m \u001b[0mself\u001b[0m\u001b[0;34m.\u001b[0m\u001b[0mnames\u001b[0m \u001b[0;32mis\u001b[0m \u001b[0;32mNone\u001b[0m\u001b[0;34m\u001b[0m\u001b[0m\n",
      "\u001b[0;32mpandas/_libs/parsers.pyx\u001b[0m in \u001b[0;36mpandas._libs.parsers.TextReader.__cinit__\u001b[0;34m()\u001b[0m\n",
      "\u001b[0;32mpandas/_libs/parsers.pyx\u001b[0m in \u001b[0;36mpandas._libs.parsers.TextReader._setup_parser_source\u001b[0;34m()\u001b[0m\n",
      "\u001b[0;31mFileNotFoundError\u001b[0m: File b'../Reduced_dim/dolphins2/dolphins_2.csv' does not exist"
     ]
    }
   ],
   "source": [
    "AccuracyNBLIB,F1scoremacroNBLIB,F1scoremicroNBLIB = evaluation_dolphinsNBLIB()"
   ]
  },
  {
   "cell_type": "code",
   "execution_count": 10,
   "metadata": {},
   "outputs": [
    {
     "name": "stdout",
     "output_type": "stream",
     "text": [
      "{2: 0.0, 4: 0.0, 8: 0.0, 16: 0.0}\n"
     ]
    }
   ],
   "source": [
    "print(AccuracyNBLIB)"
   ]
  },
  {
   "cell_type": "code",
   "execution_count": 9,
   "metadata": {},
   "outputs": [],
   "source": [
    "import pickle\n",
    "\n",
    "\n",
    "f = open(\"evaluation_dolphinsNBLIB\", \"wb\")\n",
    "pickle.dump(AccuracyNBLIB,f)\n",
    "pickle.dump(F1scoremacroNBLIB, f)\n",
    "pickle.dump(F1scoremicroNBLIB,f)\n",
    "f.close()"
   ]
  },
  {
   "cell_type": "code",
   "execution_count": 15,
   "metadata": {
    "collapsed": true
   },
   "outputs": [],
   "source": [
    "shape=X.shape[1]\n",
    "def kn(X_train,y_train,X_test,y_test):\n",
    "    \n",
    "    neigh = KNeighborsClassifier(n_neighbors=3)\n",
    "    neigh.fit(X_train, y_train) \n",
    "    y_predkn=neigh.predict(X_test)\n",
    "    accuracykn = accuracy_score(y_test, y_predkn)\n",
    "    f1scorekn = f1_score(y_test, y_predkn,average='macro')\n",
    "    #print(accuracykn)\n",
    "    #print(f1scorekn)\n",
    "    return accuracykn,f1scorekn\n",
    "\n",
    "def nb(X_train,y_train,X_test,y_test):\n",
    "    clf = GaussianNB()\n",
    "    clf.fit(X_train, y_train)\n",
    "    y_pred = clf.predict(X_test)\n",
    "    accuracy = accuracy_score(y_test, y_pred)\n",
    "    f1score = f1_score(y_test, y_pred,average='macro')\n",
    "    return accuracy, f1score\n",
    "    "
   ]
  },
  {
   "cell_type": "code",
   "execution_count": 28,
   "metadata": {
    "collapsed": true
   },
   "outputs": [],
   "source": [
    "#plotting graph\n",
    "def builtGraph(shape):\n",
    "    accuracieskn=[]\n",
    "    f1scoreskn=[]\n",
    "    accuraciesnb=[]\n",
    "    f1scoresnb=[]\n",
    "    dimensions=[]\n",
    "    for r_projections in range(2,int(shape/2 +1),2):\n",
    "        dimensions.append(r_projections)\n",
    "        print(r_projections)\n",
    "        #print(X_data)\n",
    "        filename =  '/Users/Vikas/Desktop/tipr-first-assignment-master/Reduced_dim/dolphins/dolphins_%d.csv'%(r_projections,)\n",
    "        X=pd.read_csv(filename,encoding = 'utf8',header=None)\n",
    "        y=pd.read_csv(\"..\\data\\dolphins\\dolphins_label.csv\",encoding = 'utf8',sep='\\s+',header=None)\n",
    "        X_train, X_test, y_train, y_test = train_test_split(X, y, test_size=0.20, random_state=42)\n",
    "        accuracykn,f1scorekn = kn(X_train,y_train,X_test,y_test)\n",
    "        accuracieskn.append(accuracykn)\n",
    "        f1scoreskn.append(f1scorekn)\n",
    "        accuracynb,f1scorenb = nb(X_train,y_train,X_test,y_test)\n",
    "        accuraciesnb.append(accuracynb)\n",
    "        f1scoresnb.append(f1scorenb)\n",
    "    return dimensions,accuracieskn,f1scoreskn,accuraciesnb,f1scoresnb\n",
    "        \n",
    "\n"
   ]
  },
  {
   "cell_type": "code",
   "execution_count": 29,
   "metadata": {},
   "outputs": [
    {
     "name": "stdout",
     "output_type": "stream",
     "text": [
      "2\n",
      "4\n",
      "6"
     ]
    },
    {
     "name": "stderr",
     "output_type": "stream",
     "text": [
      "C:\\Users\\Vikas\\Anaconda3\\lib\\site-packages\\ipykernel_launcher.py:5: DataConversionWarning: A column-vector y was passed when a 1d array was expected. Please change the shape of y to (n_samples, ), for example using ravel().\n",
      "  \"\"\"\n",
      "C:\\Users\\Vikas\\Anaconda3\\lib\\site-packages\\sklearn\\metrics\\classification.py:1135: UndefinedMetricWarning: F-score is ill-defined and being set to 0.0 in labels with no predicted samples.\n",
      "  'precision', 'predicted', average, warn_for)\n",
      "C:\\Users\\Vikas\\Anaconda3\\lib\\site-packages\\sklearn\\utils\\validation.py:578: DataConversionWarning: A column-vector y was passed when a 1d array was expected. Please change the shape of y to (n_samples, ), for example using ravel().\n",
      "  y = column_or_1d(y, warn=True)\n"
     ]
    },
    {
     "name": "stdout",
     "output_type": "stream",
     "text": [
      "\n",
      "8\n",
      "10\n",
      "12\n",
      "14\n",
      "16\n"
     ]
    }
   ],
   "source": [
    "dimensions,accuracieskn,f1scoreskn,accuraciesnb,f1scoresnb = builtGraph(shape)"
   ]
  },
  {
   "cell_type": "code",
   "execution_count": 30,
   "metadata": {},
   "outputs": [
    {
     "name": "stdout",
     "output_type": "stream",
     "text": [
      "2\n",
      "4\n",
      "6\n",
      "8\n",
      "10\n",
      "12\n",
      "14\n",
      "16\n"
     ]
    },
    {
     "name": "stderr",
     "output_type": "stream",
     "text": [
      "C:\\Users\\Vikas\\Anaconda3\\lib\\site-packages\\ipykernel_launcher.py:5: DataConversionWarning: A column-vector y was passed when a 1d array was expected. Please change the shape of y to (n_samples, ), for example using ravel().\n",
      "  \"\"\"\n",
      "C:\\Users\\Vikas\\Anaconda3\\lib\\site-packages\\sklearn\\metrics\\classification.py:1135: UndefinedMetricWarning: F-score is ill-defined and being set to 0.0 in labels with no predicted samples.\n",
      "  'precision', 'predicted', average, warn_for)\n",
      "C:\\Users\\Vikas\\Anaconda3\\lib\\site-packages\\sklearn\\utils\\validation.py:578: DataConversionWarning: A column-vector y was passed when a 1d array was expected. Please change the shape of y to (n_samples, ), for example using ravel().\n",
      "  y = column_or_1d(y, warn=True)\n"
     ]
    },
    {
     "data": {
      "text/plain": [
       "([2, 4, 6, 8, 10, 12, 14, 16],\n",
       " [0.92307692307692313,\n",
       "  0.92307692307692313,\n",
       "  0.92307692307692313,\n",
       "  0.92307692307692313,\n",
       "  0.92307692307692313,\n",
       "  0.92307692307692313,\n",
       "  0.92307692307692313,\n",
       "  0.92307692307692313],\n",
       " [0.72222222222222221,\n",
       "  0.72727272727272729,\n",
       "  0.72727272727272729,\n",
       "  0.72727272727272729,\n",
       "  0.72727272727272729,\n",
       "  0.72727272727272729,\n",
       "  0.72727272727272729,\n",
       "  0.72727272727272729],\n",
       " [0.92307692307692313,\n",
       "  0.92307692307692313,\n",
       "  0.92307692307692313,\n",
       "  0.92307692307692313,\n",
       "  0.92307692307692313,\n",
       "  0.92307692307692313,\n",
       "  0.92307692307692313,\n",
       "  0.92307692307692313],\n",
       " [0.72222222222222221,\n",
       "  0.72727272727272729,\n",
       "  0.72727272727272729,\n",
       "  0.72727272727272729,\n",
       "  0.72727272727272729,\n",
       "  0.72727272727272729,\n",
       "  0.72727272727272729,\n",
       "  0.72727272727272729])"
      ]
     },
     "execution_count": 30,
     "metadata": {},
     "output_type": "execute_result"
    }
   ],
   "source": [
    "builtGraph(shape)"
   ]
  },
  {
   "cell_type": "code",
   "execution_count": 43,
   "metadata": {},
   "outputs": [],
   "source": [
    "import matplotlib.pyplot as plt\n",
    "def plot(dimensions,accuracieskn,f1scoreskn,accuraciesnb,f1scoresnb):\n",
    "    #plt.figure(1)                # the first figure\n",
    "    #plt.subplot(221)             # the first subplot in the first figure\n",
    "    plt.plot(dimensions,accuracieskn)\n",
    "    #plt.subplot(222)             # the second subplot in the first figure\n",
    "    plt.plot(dimensions,f1scoreskn)\n",
    "    #plt.subplot(223)             # the second subplot in the first figure\n",
    "    plt.plot(dimensions,accuraciesnb)\n",
    "    #plt.subplot(224)             # the second subplot in the first figure\n",
    "    plt.plot(dimensions,f1scoresnb)\n",
    "    #plt.subplots_adjust(top=0.92, bottom=0.08, left=0.10, right=0.95, hspace=0.25,wspace=0.35)\n",
    "   \n",
    "    plt.show()\n",
    "    "
   ]
  },
  {
   "cell_type": "code",
   "execution_count": 44,
   "metadata": {},
   "outputs": [
    {
     "data": {
      "image/png": "[encoded data removed]",
      "text/plain": [
       "<matplotlib.figure.Figure at 0x216c54b9588>"
      ]
     },
     "metadata": {},
     "output_type": "display_data"
    }
   ],
   "source": [
    "plot(dimensions,accuracieskn,f1scoreskn,accuraciesnb,f1scoresnb)"
   ]
  },
  {
   "cell_type": "code",
   "execution_count": 46,
   "metadata": {},
   "outputs": [
    {
     "data": {
      "image/png": "[encoded data removed]",
      "text/plain": [
       "<matplotlib.figure.Figure at 0x216c5319400>"
      ]
     },
     "metadata": {},
     "output_type": "display_data"
    }
   ],
   "source": [
    "plt.plot(dimensions,accuracieskn)\n",
    "plt.title('nearest neighbor classifier')\n",
    "plt.xlabel('dimension')\n",
    "plt.ylabel('accuracy')\n",
    "plt.show()"
   ]
  },
  {
   "cell_type": "code",
   "execution_count": 49,
   "metadata": {},
   "outputs": [
    {
     "data": {
      "image/png": "[encoded data removed]",
      "text/plain": [
       "<matplotlib.figure.Figure at 0x216c52c9240>"
      ]
     },
     "metadata": {},
     "output_type": "display_data"
    }
   ],
   "source": [
    "plt.plot(dimensions,f1scoreskn)\n",
    "plt.title('nearest neighbor classifier')\n",
    "plt.xlabel('dimension')\n",
    "plt.ylabel('f1 score')\n",
    "plt.show()"
   ]
  },
  {
   "cell_type": "code",
   "execution_count": null,
   "metadata": {
    "collapsed": true
   },
   "outputs": [],
   "source": []
  }
 ],
 "metadata": {
  "kernelspec": {
   "display_name": "Python 3",
   "language": "python",
   "name": "python3"
  },
  "language_info": {
   "codemirror_mode": {
    "name": "ipython",
    "version": 3
   },
   "file_extension": ".py",
   "mimetype": "text/x-python",
   "name": "python",
   "nbconvert_exporter": "python",
   "pygments_lexer": "ipython3",
   "version": "3.7.0"
  }
 },
 "nbformat": 4,
 "nbformat_minor": 2
}
