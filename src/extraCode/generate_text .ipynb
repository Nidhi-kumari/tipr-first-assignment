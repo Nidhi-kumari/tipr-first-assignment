{
 "cells": [
  {
   "cell_type": "code",
   "execution_count": 1,
   "metadata": {},
   "outputs": [],
   "source": [
    "import pickle"
   ]
  },
  {
   "cell_type": "code",
   "execution_count": 48,
   "metadata": {},
   "outputs": [],
   "source": [
    "def generate_text(filename):\n",
    "    f = open(filename, \"rb\")\n",
    "    value1 = pickle.load(f)\n",
    "    value2 = pickle.load(f)\n",
    "    value3 = pickle.load(f)\n",
    "    #value4 = pickle.load(f)\n",
    "    f.close()\n",
    "    return value1, value2, value3"
   ]
  },
  {
   "cell_type": "code",
   "execution_count": 55,
   "metadata": {},
   "outputs": [],
   "source": [
    "value1,value2,value3 = generate_text(\"graphData/evaluation_twitterLSH\")"
   ]
  },
  {
   "cell_type": "code",
   "execution_count": 56,
   "metadata": {},
   "outputs": [
    {
     "name": "stdout",
     "output_type": "stream",
     "text": [
      "Accuracy ::  {2: 0.4078333333333333, 4: 0.41100000000000003, 8: 0.41166666666666674, 16: 0.4141666666666667, 32: 0.44400000000000006, 64: 0.44300000000000006, 128: 0.45583333333333337, 256: 0.479, 512: 0.47833333333333333, 1024: 0.49849999999999994}\n",
      "\n",
      "F1_score macro :: {2: 0.3121733296530454, 4: 0.32581305898547064, 8: 0.3230146658700945, 16: 0.33056287951649727, 32: 0.3516093764291476, 64: 0.34925533109525336, 128: 0.3580290961604632, 256: 0.3834268855060166, 512: 0.37630306817363396, 1024: 0.39194000084266867}\n",
      "\n",
      "F1_score macro :: {2: 0.4078333333333333, 4: 0.41100000000000003, 8: 0.41166666666666674, 16: 0.4141666666666667, 32: 0.44400000000000006, 64: 0.44300000000000006, 128: 0.45583333333333337, 256: 0.479, 512: 0.47833333333333333, 1024: 0.49849999999999994}\n"
     ]
    }
   ],
   "source": [
    "print(\"Accuracy :: \",value1)\n",
    "print()\n",
    "print(\"F1_score macro ::\",value2)\n",
    "print()\n",
    "print(\"F1_score macro ::\",value3)\n",
    "\n",
    "        "
   ]
  },
  {
   "cell_type": "code",
   "execution_count": 24,
   "metadata": {},
   "outputs": [
    {
     "ename": "FileNotFoundError",
     "evalue": "[Errno 2] No such file or directory: 'graphData/evaluation_twitterNB'",
     "output_type": "error",
     "traceback": [
      "\u001b[0;31m---------------------------------------------------------------------------\u001b[0m",
      "\u001b[0;31mFileNotFoundError\u001b[0m                         Traceback (most recent call last)",
      "\u001b[0;32m<ipython-input-24-ac8e3e7674c9>\u001b[0m in \u001b[0;36m<module>\u001b[0;34m()\u001b[0m\n\u001b[0;32m----> 1\u001b[0;31m \u001b[0mvalue1\u001b[0m\u001b[0;34m,\u001b[0m\u001b[0mvalue2\u001b[0m\u001b[0;34m,\u001b[0m\u001b[0mvalue3\u001b[0m \u001b[0;34m=\u001b[0m \u001b[0mgenerate_text\u001b[0m\u001b[0;34m(\u001b[0m\u001b[0;34m\"graphData/evaluation_twitterNB\"\u001b[0m\u001b[0;34m)\u001b[0m\u001b[0;34m\u001b[0m\u001b[0m\n\u001b[0m",
      "\u001b[0;32m<ipython-input-2-5972ff1b747a>\u001b[0m in \u001b[0;36mgenerate_text\u001b[0;34m(filename)\u001b[0m\n\u001b[1;32m      1\u001b[0m \u001b[0;32mdef\u001b[0m \u001b[0mgenerate_text\u001b[0m\u001b[0;34m(\u001b[0m\u001b[0mfilename\u001b[0m\u001b[0;34m)\u001b[0m\u001b[0;34m:\u001b[0m\u001b[0;34m\u001b[0m\u001b[0m\n\u001b[0;32m----> 2\u001b[0;31m     \u001b[0mf\u001b[0m \u001b[0;34m=\u001b[0m \u001b[0mopen\u001b[0m\u001b[0;34m(\u001b[0m\u001b[0mfilename\u001b[0m\u001b[0;34m,\u001b[0m \u001b[0;34m\"rb\"\u001b[0m\u001b[0;34m)\u001b[0m\u001b[0;34m\u001b[0m\u001b[0m\n\u001b[0m\u001b[1;32m      3\u001b[0m     \u001b[0mvalue1\u001b[0m \u001b[0;34m=\u001b[0m \u001b[0mpickle\u001b[0m\u001b[0;34m.\u001b[0m\u001b[0mload\u001b[0m\u001b[0;34m(\u001b[0m\u001b[0mf\u001b[0m\u001b[0;34m)\u001b[0m\u001b[0;34m\u001b[0m\u001b[0m\n\u001b[1;32m      4\u001b[0m     \u001b[0mvalue2\u001b[0m \u001b[0;34m=\u001b[0m \u001b[0mpickle\u001b[0m\u001b[0;34m.\u001b[0m\u001b[0mload\u001b[0m\u001b[0;34m(\u001b[0m\u001b[0mf\u001b[0m\u001b[0;34m)\u001b[0m\u001b[0;34m\u001b[0m\u001b[0m\n\u001b[1;32m      5\u001b[0m     \u001b[0mvalue3\u001b[0m \u001b[0;34m=\u001b[0m \u001b[0mpickle\u001b[0m\u001b[0;34m.\u001b[0m\u001b[0mload\u001b[0m\u001b[0;34m(\u001b[0m\u001b[0mf\u001b[0m\u001b[0;34m)\u001b[0m\u001b[0;34m\u001b[0m\u001b[0m\n",
      "\u001b[0;31mFileNotFoundError\u001b[0m: [Errno 2] No such file or directory: 'graphData/evaluation_twitterNB'"
     ]
    }
   ],
   "source": [
    "value1,value2,value3 = generate_text(\"graphData/evaluation_twitterNB\")"
   ]
  },
  {
   "cell_type": "code",
   "execution_count": 16,
   "metadata": {},
   "outputs": [
    {
     "name": "stdout",
     "output_type": "stream",
     "text": [
      "Accuracy ::  {256: 0.3676666666666667, 512: 0.37533333333333335}\n",
      "\n",
      "F1_score macro :: {256: 0.2552348026610756, 512: 0.2375128288221437}\n",
      "\n",
      "F1_score macro :: {256: 0.3676666666666667, 512: 0.37533333333333335}\n"
     ]
    }
   ],
   "source": [
    "print(\"Accuracy :: \",value1)\n",
    "print()\n",
    "print(\"F1_score macro ::\",value2)\n",
    "print()\n",
    "print(\"F1_score macro ::\",value3)\n",
    "        "
   ]
  },
  {
   "cell_type": "code",
   "execution_count": null,
   "metadata": {},
   "outputs": [],
   "source": []
  }
 ],
 "metadata": {
  "kernelspec": {
   "display_name": "Python 3",
   "language": "python",
   "name": "python3"
  },
  "language_info": {
   "codemirror_mode": {
    "name": "ipython",
    "version": 3
   },
   "file_extension": ".py",
   "mimetype": "text/x-python",
   "name": "python",
   "nbconvert_exporter": "python",
   "pygments_lexer": "ipython3",
   "version": "3.7.0"
  }
 },
 "nbformat": 4,
 "nbformat_minor": 2
}
