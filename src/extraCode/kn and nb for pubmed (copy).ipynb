{
 "cells": [
  {
   "cell_type": "code",
   "execution_count": 3,
   "metadata": {},
   "outputs": [],
   "source": [
    "import numpy as np\n",
    "import pandas as pd\n",
    "from sklearn.model_selection import train_test_split\n",
    "\n",
    "from sklearn.naive_bayes import MultinomialNB\n",
    "from sklearn.cross_validation import KFold\n",
    "from sklearn.metrics import accuracy_score,f1_score\n",
    "from sklearn.naive_bayes import GaussianNB\n",
    "from sklearn.neighbors import KNeighborsClassifier"
   ]
  },
  {
   "cell_type": "code",
   "execution_count": 4,
   "metadata": {},
   "outputs": [],
   "source": [
    "X=pd.read_csv(\"../data/pubmed/pubmed.csv\",encoding = 'utf8',sep='\\s+',header=None)\n",
    "y=pd.read_csv(\"../data/pubmed/pubmed_label.csv\",encoding = 'utf8',sep='\\s+',header=None)\n",
    "\n"
   ]
  },
  {
   "cell_type": "code",
   "execution_count": 10,
   "metadata": {},
   "outputs": [
    {
     "name": "stderr",
     "output_type": "stream",
     "text": [
      "/home/nidhi/anaconda3/lib/python3.7/site-packages/sklearn/utils/validation.py:578: DataConversionWarning: A column-vector y was passed when a 1d array was expected. Please change the shape of y to (n_samples, ), for example using ravel().\n",
      "  y = column_or_1d(y, warn=True)\n"
     ]
    },
    {
     "name": "stdout",
     "output_type": "stream",
     "text": [
      "0.4236041073298857\n",
      "0.39836392057418923\n",
      "0.4236041073298857\n"
     ]
    }
   ],
   "source": [
    "from sklearn.naive_bayes import GaussianNB\n",
    "#X_train, X_test, y_train, y_test = train_test_split(X, y, test_size=0.20, random_state=42)\n",
    "X = np.array(X)\n",
    "y = np.array(y)\n",
    "clf = GaussianNB() \n",
    "accuracies=[]\n",
    "f1scoremacro=[]\n",
    "f1scoremicro=[]\n",
    "kf = KFold(y.shape[0],n_folds=10)\n",
    "for train_index, validation_index in kf:\n",
    "    X_train, X_test = X[train_index], X[validation_index]\n",
    "    y_train, y_test = y[train_index], y[validation_index]\n",
    "\n",
    "    clf.fit(X_train, y_train)\n",
    "\n",
    "    y_pred = clf.predict(X_test)\n",
    "    accuracy = accuracy_score(y_test, y_pred)\n",
    "    f1_scoremacro = f1_score(y_test, y_pred,average='macro')\n",
    "    f1_scoremicro = f1_score(y_test, y_pred,average='micro')\n",
    "    accuracies.append(accuracy)\n",
    "    f1scoremacro.append(f1_scoremacro)\n",
    "    f1scoremicro.append(f1_scoremicro)\n",
    "print(sum(accuracies)/float(len(accuracies)))\n",
    "print(sum(f1scoremacro)/float(len(f1scoremacro)))\n",
    "print(sum(f1scoremicro)/float(len(f1scoremicro)))\n",
    "    "
   ]
  },
  {
   "cell_type": "code",
   "execution_count": 14,
   "metadata": {},
   "outputs": [
    {
     "name": "stderr",
     "output_type": "stream",
     "text": [
      "/home/nidhi/anaconda3/lib/python3.7/site-packages/ipykernel_launcher.py:14: DataConversionWarning: A column-vector y was passed when a 1d array was expected. Please change the shape of y to (n_samples, ), for example using ravel().\n",
      "  \n"
     ]
    },
    {
     "name": "stdout",
     "output_type": "stream",
     "text": [
      "0.3332202931207823\n",
      "0.315840383922573\n",
      "0.3332202931207823\n"
     ]
    }
   ],
   "source": [
    "from sklearn.neighbors import KNeighborsClassifier\n",
    "neigh = KNeighborsClassifier(n_neighbors=2)\n",
    "X = np.array(X)\n",
    "y = np.array(y)\n",
    "\n",
    "accuracies=[]\n",
    "f1scoremacro=[]\n",
    "f1scoremicro=[]\n",
    "kf = KFold(y.shape[0],n_folds=10)\n",
    "for train_index, validation_index in kf:\n",
    "    X_train, X_test = X[train_index], X[validation_index]\n",
    "    y_train, y_test = y[train_index], y[validation_index]\n",
    "\n",
    "    neigh.fit(X_train, y_train)\n",
    "\n",
    "    y_pred = neigh.predict(X_test)\n",
    "    accuracy = accuracy_score(y_test, y_pred)\n",
    "    f1_scoremacro = f1_score(y_test, y_pred,average='macro')\n",
    "    f1_scoremicro = f1_score(y_test, y_pred,average='micro')\n",
    "    accuracies.append(accuracy)\n",
    "    f1scoremacro.append(f1_scoremacro)\n",
    "    f1scoremicro.append(f1_scoremicro)\n",
    "print(sum(accuracies)/float(len(accuracies)))\n",
    "print(sum(f1scoremacro)/float(len(f1scoremacro)))\n",
    "print(sum(f1scoremicro)/float(len(f1scoremicro)))\n",
    "    "
   ]
  },
  {
   "cell_type": "code",
   "execution_count": 12,
   "metadata": {},
   "outputs": [
    {
     "name": "stderr",
     "output_type": "stream",
     "text": [
      "/home/nidhi/anaconda3/lib/python3.7/site-packages/ipykernel_launcher.py:3: DataConversionWarning: A column-vector y was passed when a 1d array was expected. Please change the shape of y to (n_samples, ), for example using ravel().\n",
      "  This is separate from the ipykernel package so we can avoid doing imports until\n"
     ]
    },
    {
     "name": "stdout",
     "output_type": "stream",
     "text": [
      "0.3314009661835749\n",
      "0.3220819474964835\n"
     ]
    }
   ],
   "source": [
    "from sklearn.neighbors import KNeighborsClassifier\n",
    "neigh = KNeighborsClassifier(n_neighbors=3)\n",
    "neigh.fit(X_train, y_train) \n",
    "y_predkn=neigh.predict(X_test)\n",
    "accuracykn = accuracy_score(y_test, y_predkn)\n",
    "f1scorekn = f1_score(y_test, y_predkn,average='macro')\n",
    "print(accuracykn)\n",
    "print(f1scorekn)\n"
   ]
  },
  {
   "cell_type": "code",
   "execution_count": 7,
   "metadata": {
    "collapsed": true
   },
   "outputs": [],
   "source": [
    "shape=X.shape[1]\n",
    "def kn(X_train,y_train,X_test,y_test):\n",
    "    \n",
    "    neigh = KNeighborsClassifier(n_neighbors=3)\n",
    "    neigh.fit(X_train, y_train) \n",
    "    y_predkn=neigh.predict(X_test)\n",
    "    accuracykn = accuracy_score(y_test, y_predkn)\n",
    "    f1scorekn = f1_score(y_test, y_predkn,average='macro')\n",
    "    #print(accuracykn)\n",
    "    #print(f1scorekn)\n",
    "    return accuracykn,f1scorekn\n",
    "\n",
    "def nb(X_train,y_train,X_test,y_test):\n",
    "    clf = GaussianNB()\n",
    "    clf.fit(X_train, y_train)\n",
    "    y_pred = clf.predict(X_test)\n",
    "    accuracy = accuracy_score(y_test, y_pred)\n",
    "    f1score = f1_score(y_test, y_pred,average='macro')\n",
    "    return accuracy, f1score\n",
    "    "
   ]
  },
  {
   "cell_type": "code",
   "execution_count": 11,
   "metadata": {},
   "outputs": [],
   "source": [
    "pubmed=pd.read_csv(\"../data/pubmed/pubmed.csv\",encoding = 'utf8',sep='\\s+',header=None)\n",
    "from sklearn.metrics import f1_score\n",
    "def evaluation_pubmedNBLIB():\n",
    "    Accuracy=dict()\n",
    "    F1scoremacro=dict()\n",
    "    F1scoremicro=dict()\n",
    "    clf = GaussianNB() \n",
    "    for i in [2,4,8,16,32]:\n",
    "        filename =  '../Reduced_dim/pubmed/pubmed_%d.csv'%(i,)\n",
    "        print(filename)\n",
    "        X=pd.read_csv(filename,encoding = 'utf8',header=None)\n",
    "        y=pd.read_csv(\"../data/pubmed/pubmed_label.csv\",encoding = 'utf8',names = [\"label\"])\n",
    "        \n",
    "        X = np.array(X)\n",
    "        y = np.array(y)\n",
    "    \n",
    "        kf = KFold(y.shape[0],n_folds=10)\n",
    "        \n",
    "        \n",
    "        accuracies=[]\n",
    "        f1scoremacro=[]\n",
    "        f1scoremicro=[]\n",
    "        for train_index, validation_index in kf:\n",
    "           #print(\"TRAIN:\", train_index, \"TEST:\", test_index)\n",
    "            \n",
    "            #print(X)\n",
    "            \n",
    "            X_train, X_test = X[train_index], X[validation_index]\n",
    "            y_train, y_test = y[train_index], y[validation_index]\n",
    "            clf.fit(X_train, y_train)\n",
    "            y_pred = clf.predict(X_test)\n",
    "            \n",
    "            \n",
    "            accuracy = accuracy_score(y_test, y_pred)\n",
    "            f1_scoremacro = f1_score(y_test, y_pred,average='macro')\n",
    "            f1_scoremicro = f1_score(y_test, y_pred,average='micro')\n",
    "            accuracies.append(accuracy)\n",
    "            f1scoremacro.append(f1_scoremacro)\n",
    "            f1scoremicro.append(f1_scoremicro)\n",
    "            \n",
    "            \n",
    "            \n",
    "        Accuracy[i]=sum(accuracies)/float(len(accuracies))\n",
    "        F1scoremacro[i]=sum(f1scoremacro)/float(len(f1scoremacro))\n",
    "        F1scoremicro[i]=sum(f1scoremicro)/float(len(f1scoremicro))\n",
    "    return Accuracy,F1scoremacro,F1scoremicro\n"
   ]
  },
  {
   "cell_type": "code",
   "execution_count": 13,
   "metadata": {},
   "outputs": [
    {
     "name": "stdout",
     "output_type": "stream",
     "text": [
      "../Reduced_dim/pubmed/pubmed_2.csv\n",
      "../Reduced_dim/pubmed/pubmed_4.csv\n"
     ]
    },
    {
     "name": "stderr",
     "output_type": "stream",
     "text": [
      "/home/nidhi/anaconda3/lib/python3.7/site-packages/sklearn/utils/validation.py:578: DataConversionWarning: A column-vector y was passed when a 1d array was expected. Please change the shape of y to (n_samples, ), for example using ravel().\n",
      "  y = column_or_1d(y, warn=True)\n",
      "/home/nidhi/anaconda3/lib/python3.7/site-packages/sklearn/metrics/classification.py:1135: UndefinedMetricWarning: F-score is ill-defined and being set to 0.0 in labels with no predicted samples.\n",
      "  'precision', 'predicted', average, warn_for)\n"
     ]
    },
    {
     "name": "stdout",
     "output_type": "stream",
     "text": [
      "../Reduced_dim/pubmed/pubmed_8.csv\n",
      "../Reduced_dim/pubmed/pubmed_16.csv\n",
      "../Reduced_dim/pubmed/pubmed_32.csv\n"
     ]
    }
   ],
   "source": [
    "AccuracyNBLIB,F1scoremacroNBLIB,F1scoremicroNBLIB = evaluation_pubmedNBLIB()"
   ]
  },
  {
   "cell_type": "code",
   "execution_count": 4,
   "metadata": {},
   "outputs": [],
   "source": [
    "import pickle\n",
    "\n",
    "\n",
    "f = open(\"evaluation_pubmedNBLIB\", \"wb\")\n",
    "pickle.dump(AccuracyNBLIB,f)\n",
    "pickle.dump(F1scoremacroNBLIB, f)\n",
    "pickle.dump(F1scoremicroNBLIB,f)\n",
    "f.close()"
   ]
  },
  {
   "cell_type": "code",
   "execution_count": 5,
   "metadata": {},
   "outputs": [
    {
     "name": "stdout",
     "output_type": "stream",
     "text": [
      "{2: 0.40582614294011854, 4: 0.41505205308178034, 8: 0.42113996598996495, 16: 0.42872399386979615, 32: 0.43133268952197}\n"
     ]
    }
   ],
   "source": [
    "print(AccuracyNBLIB)"
   ]
  },
  {
   "cell_type": "code",
   "execution_count": 7,
   "metadata": {},
   "outputs": [],
   "source": [
    "pubmed=pd.read_csv(\"../data/pubmed/pubmed.csv\",encoding = 'utf8',sep='\\s+',header=None)\n",
    "from sklearn.metrics import f1_score\n",
    "def evaluation_pubmedKNNLIB():\n",
    "    Accuracy=dict()\n",
    "    F1scoremacro=dict()\n",
    "    F1scoremicro=dict()\n",
    "    neigh = KNeighborsClassifier(n_neighbors=2)\n",
    "    for i in [2,4,8,16,32]:\n",
    "        filename =  '../Reduced_dim/pubmed/pubmed_%d.csv'%(i,)\n",
    "        print(filename)\n",
    "        X=pd.read_csv(filename,encoding = 'utf8',header=None)\n",
    "        y=pd.read_csv(\"../data/pubmed/pubmed_label.csv\",encoding = 'utf8',names = [\"label\"])\n",
    "        \n",
    "        X = np.array(X)\n",
    "        y = np.array(y)\n",
    "    \n",
    "        kf = KFold(y.shape[0],n_folds=10)\n",
    "        \n",
    "        \n",
    "        accuracies=[]\n",
    "        f1scoremacro=[]\n",
    "        f1scoremicro=[]\n",
    "        for train_index, validation_index in kf:\n",
    "           #print(\"TRAIN:\", train_index, \"TEST:\", test_index)\n",
    "            \n",
    "            #print(X)\n",
    "            \n",
    "            X_train, X_test = X[train_index], X[validation_index]\n",
    "            y_train, y_test = y[train_index], y[validation_index]\n",
    "            neigh.fit(X_train, y_train)\n",
    "            y_pred = neigh.predict(X_test)\n",
    "            \n",
    "            \n",
    "            accuracy = accuracy_score(y_test, y_pred)\n",
    "            f1_scoremacro = f1_score(y_test, y_pred,average='macro')\n",
    "            f1_scoremicro = f1_score(y_test, y_pred,average='micro')\n",
    "            accuracies.append(accuracy)\n",
    "            f1scoremacro.append(f1_scoremacro)\n",
    "            f1scoremicro.append(f1_scoremicro)\n",
    "            \n",
    "            \n",
    "            \n",
    "        Accuracy[i]=sum(accuracies)/float(len(accuracies))\n",
    "        F1scoremacro[i]=sum(f1scoremacro)/float(len(f1scoremacro))\n",
    "        F1scoremicro[i]=sum(f1scoremicro)/float(len(f1scoremicro))\n",
    "    return Accuracy,F1scoremacro,F1scoremicro\n"
   ]
  },
  {
   "cell_type": "code",
   "execution_count": 8,
   "metadata": {},
   "outputs": [
    {
     "name": "stdout",
     "output_type": "stream",
     "text": [
      "../Reduced_dim/pubmed/pubmed_2.csv\n"
     ]
    },
    {
     "name": "stderr",
     "output_type": "stream",
     "text": [
      "/home/nidhi/anaconda3/lib/python3.7/site-packages/ipykernel_launcher.py:30: DataConversionWarning: A column-vector y was passed when a 1d array was expected. Please change the shape of y to (n_samples, ), for example using ravel().\n"
     ]
    },
    {
     "name": "stdout",
     "output_type": "stream",
     "text": [
      "../Reduced_dim/pubmed/pubmed_4.csv\n",
      "../Reduced_dim/pubmed/pubmed_8.csv\n",
      "../Reduced_dim/pubmed/pubmed_16.csv\n",
      "../Reduced_dim/pubmed/pubmed_32.csv\n"
     ]
    }
   ],
   "source": [
    "AccuracyKNNLIB,F1scoremacroKNNLIB,F1scoremicroKNNLIB = evaluation_pubmedKNNLIB()"
   ]
  },
  {
   "cell_type": "code",
   "execution_count": 11,
   "metadata": {},
   "outputs": [],
   "source": [
    "import pickle\n",
    "\n",
    "\n",
    "f = open(\"evaluation_pubmedKNNLIB\", \"wb\")\n",
    "pickle.dump(AccuracyKNNLIB,f)\n",
    "pickle.dump(F1scoremacroKNNLIB, f)\n",
    "pickle.dump(F1scoremicroKNNLIB,f)\n",
    "f.close()"
   ]
  },
  {
   "cell_type": "code",
   "execution_count": 12,
   "metadata": {
    "collapsed": true
   },
   "outputs": [],
   "source": [
    "#plotting graph\n",
    "def builtGraph(shape):\n",
    "    accuracieskn=[]\n",
    "    f1scoreskn=[]\n",
    "    accuraciesnb=[]\n",
    "    f1scoresnb=[]\n",
    "    dimensions=[]\n",
    "    for r_projections in range(2,int(shape/2 +1),2):\n",
    "        dimensions.append(r_projections)\n",
    "        print(r_projections)\n",
    "        #print(X_data)\n",
    "        filename =  '/Users/Vikas/Desktop/tipr-first-assignment-master/Reduced_dim/pubmed/pubmed_%d.csv'%(r_projections,)\n",
    "        X=pd.read_csv(filename,encoding = 'utf8',header=None)\n",
    "        y=pd.read_csv(\"..\\data\\pubmed\\pubmed_label.csv\",encoding = 'utf8',sep='\\s+',header=None)\n",
    "        X_train, X_test, y_train, y_test = train_test_split(X, y, test_size=0.20, random_state=42)\n",
    "        accuracykn,f1scorekn = kn(X_train,y_train,X_test,y_test)\n",
    "        accuracieskn.append(accuracykn)\n",
    "        f1scoreskn.append(f1scorekn)\n",
    "        accuracynb,f1scorenb = nb(X_train,y_train,X_test,y_test)\n",
    "        accuraciesnb.append(accuracynb)\n",
    "        f1scoresnb.append(f1scorenb)\n",
    "    return dimensions,accuracieskn,f1scoreskn,accuraciesnb,f1scoresnb"
   ]
  },
  {
   "cell_type": "code",
   "execution_count": 13,
   "metadata": {},
   "outputs": [
    {
     "name": "stdout",
     "output_type": "stream",
     "text": [
      "2\n",
      "4"
     ]
    },
    {
     "name": "stderr",
     "output_type": "stream",
     "text": [
      "C:\\Users\\Vikas\\Anaconda3\\lib\\site-packages\\ipykernel_launcher.py:5: DataConversionWarning: A column-vector y was passed when a 1d array was expected. Please change the shape of y to (n_samples, ), for example using ravel().\n",
      "  \"\"\"\n",
      "C:\\Users\\Vikas\\Anaconda3\\lib\\site-packages\\sklearn\\utils\\validation.py:578: DataConversionWarning: A column-vector y was passed when a 1d array was expected. Please change the shape of y to (n_samples, ), for example using ravel().\n",
      "  y = column_or_1d(y, warn=True)\n",
      "C:\\Users\\Vikas\\Anaconda3\\lib\\site-packages\\sklearn\\metrics\\classification.py:1135: UndefinedMetricWarning: F-score is ill-defined and being set to 0.0 in labels with no predicted samples.\n",
      "  'precision', 'predicted', average, warn_for)\n"
     ]
    },
    {
     "name": "stdout",
     "output_type": "stream",
     "text": [
      "\n",
      "6\n",
      "8\n",
      "10\n",
      "12\n",
      "14\n",
      "16\n",
      "18\n",
      "20\n",
      "22\n",
      "24\n",
      "26\n",
      "28\n",
      "30\n",
      "32\n",
      "34\n",
      "36\n",
      "38\n",
      "40\n",
      "42\n",
      "44\n",
      "46\n",
      "48\n",
      "50\n",
      "52\n",
      "54\n",
      "56\n",
      "58\n",
      "60\n",
      "62\n",
      "64\n"
     ]
    }
   ],
   "source": [
    "dimensions,accuracieskn,f1scoreskn,accuraciesnb,f1scoresnb = builtGraph(shape)"
   ]
  },
  {
   "cell_type": "code",
   "execution_count": 14,
   "metadata": {},
   "outputs": [
    {
     "data": {
      "image/png": "[encoded data removed]",
      "text/plain": [
       "<matplotlib.figure.Figure at 0x1a0b6fbc400>"
      ]
     },
     "metadata": {},
     "output_type": "display_data"
    }
   ],
   "source": [
    "import matplotlib.pyplot as plt\n",
    "plt.plot(dimensions,f1scoreskn)\n",
    "plt.title('nearest neighbor classifier')\n",
    "plt.xlabel('dimension')\n",
    "plt.ylabel('f1 score')\n",
    "plt.show()"
   ]
  },
  {
   "cell_type": "code",
   "execution_count": 15,
   "metadata": {},
   "outputs": [
    {
     "data": {
      "image/png": "[encoded data removed]",
      "text/plain": [
       "<matplotlib.figure.Figure at 0x1a0bd843470>"
      ]
     },
     "metadata": {},
     "output_type": "display_data"
    }
   ],
   "source": [
    "plt.plot(dimensions,accuracieskn)\n",
    "plt.title('nearest neighbor classifier')\n",
    "plt.xlabel('dimension')\n",
    "plt.ylabel('accuracy')\n",
    "plt.show()"
   ]
  },
  {
   "cell_type": "code",
   "execution_count": 16,
   "metadata": {},
   "outputs": [
    {
     "data": {
      "image/png": "[encoded data removed]",
      "text/plain": [
       "<matplotlib.figure.Figure at 0x1a0bd8744a8>"
      ]
     },
     "metadata": {},
     "output_type": "display_data"
    }
   ],
   "source": [
    "plt.plot(dimensions,accuraciesnb)\n",
    "plt.title('naive bayes classifier')\n",
    "plt.xlabel('dimension')\n",
    "plt.ylabel('accuracy')\n",
    "plt.show()"
   ]
  },
  {
   "cell_type": "code",
   "execution_count": null,
   "metadata": {},
   "outputs": [],
   "source": [
    "print(\"hello\")"
   ]
  },
  {
   "cell_type": "code",
   "execution_count": null,
   "metadata": {},
   "outputs": [],
   "source": []
  }
 ],
 "metadata": {
  "kernelspec": {
   "display_name": "Python 3",
   "language": "python",
   "name": "python3"
  },
  "language_info": {
   "codemirror_mode": {
    "name": "ipython",
    "version": 3
   },
   "file_extension": ".py",
   "mimetype": "text/x-python",
   "name": "python",
   "nbconvert_exporter": "python",
   "pygments_lexer": "ipython3",
   "version": "3.7.0"
  }
 },
 "nbformat": 4,
 "nbformat_minor": 2
}
